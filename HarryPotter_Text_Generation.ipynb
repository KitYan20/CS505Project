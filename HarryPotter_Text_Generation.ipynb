{
 "cells": [
  {
   "cell_type": "code",
   "execution_count": 49,
   "metadata": {
    "colab": {
     "base_uri": "https://localhost:8080/"
    },
    "id": "ZP4eAbuX1NpN",
    "outputId": "b894a297-aa82-4252-80e3-3d0c9d3cc76a"
   },
   "outputs": [
    {
     "name": "stderr",
     "output_type": "stream",
     "text": [
      "[nltk_data] Downloading package webtext to\n",
      "[nltk_data]     /usr4/ugrad/kyan/nltk_data...\n",
      "[nltk_data]   Package webtext is already up-to-date!\n",
      "[nltk_data] Downloading package punkt to /usr4/ugrad/kyan/nltk_data...\n",
      "[nltk_data]   Package punkt is already up-to-date!\n"
     ]
    }
   ],
   "source": [
    "import numpy as np\n",
    "import nltk\n",
    "import re\n",
    "\n",
    "# The first time you will need to download the corpus:\n",
    "nltk.download('webtext')\n",
    "nltk.download('punkt')\n",
    "import math\n",
    "import numpy as np\n",
    "from numpy.random import shuffle, seed, choice\n",
    "from tqdm import tqdm\n",
    "from collections import defaultdict, Counter\n",
    "import pandas as pd\n",
    "import re\n",
    "import matplotlib.pyplot as plt\n",
    "\n",
    "import torch\n",
    "from torch.utils.data import Dataset,DataLoader\n",
    "import torch.nn.functional as F\n",
    "from torch.utils.data import random_split,Dataset,DataLoader\n",
    "from torchvision import datasets, transforms\n",
    "from torch import nn, optim\n",
    "\n",
    "from torchvision.datasets import MNIST\n",
    "import torchvision.transforms as T\n",
    "\n",
    "from sklearn.decomposition import PCA\n",
    "from sklearn.decomposition import TruncatedSVD\n",
    "from sklearn.feature_extraction.text import TfidfVectorizer, CountVectorizer"
   ]
  },
  {
   "cell_type": "code",
   "execution_count": 50,
   "metadata": {},
   "outputs": [
    {
     "name": "stdout",
     "output_type": "stream",
     "text": [
      "Using cuda\n",
      "True\n",
      "1\n",
      "0\n",
      "Tesla V100-SXM2-16GB\n"
     ]
    }
   ],
   "source": [
    "device = \"cuda\" if torch.cuda.is_available() else \"cpu\"\n",
    "print(f\"Using {device}\")\n",
    "print(torch.cuda.is_available())\n",
    "print(torch.cuda.device_count())\n",
    "print(torch.cuda.current_device())\n",
    "print(torch.cuda.get_device_name(0))"
   ]
  },
  {
   "cell_type": "code",
   "execution_count": null,
   "metadata": {
    "colab": {
     "base_uri": "https://localhost:8080/"
    },
    "id": "Ed_hXP9awp3s",
    "outputId": "c25dd382-ac5a-4357-f39f-4bd94bdc0dbe"
   },
   "outputs": [],
   "source": [
    "# from google.colab import drive\n",
    "\n",
    "# drive.mount('/content/drive')"
   ]
  },
  {
   "cell_type": "code",
   "execution_count": 2,
   "metadata": {
    "id": "9AOPUMt0xS8w"
   },
   "outputs": [],
   "source": [
    "# file_path = \"/content/drive/My Drive/J. K. Rowling - Harry Potter 1 - Sorcerer's Stone.txt\"\n",
    "file_path = \"J. K. Rowling - Harry Potter 1 - Sorcerer's Stone.txt\""
   ]
  },
  {
   "cell_type": "code",
   "execution_count": 3,
   "metadata": {
    "id": "M42x-j1FxgrO"
   },
   "outputs": [],
   "source": [
    "with open(file_path, 'r') as file:\n",
    "    content = file.read()\n",
    "chapters = content.split('CHAPTER')\n",
    "chapters = chapters[1:]\n",
    "def cleaner(chapters):\n",
    "  text = ((nltk.word_tokenize(chapters)))\n",
    "  #print(set(cleaned.split(' ')))\n",
    "  clean_text = [token for token in text if token != \"''\"]\n",
    "  clean_text = [token for token in clean_text if token != \"``\"]\n",
    "  clean_text = [token for token in clean_text if token != \"--\"]\n",
    "  clean_text = [token for token in clean_text if token != \"-\"]\n",
    "  clean_text = [token for token in clean_text if token != \"...\"]\n",
    "  clean_text = [token for token in clean_text if token != \"....\"]\n",
    "  return ' '.join((clean_text))\n",
    "\n",
    "docs = [cleaner(chapter) for chapter in chapters]"
   ]
  },
  {
   "cell_type": "code",
   "execution_count": 4,
   "metadata": {},
   "outputs": [
    {
     "name": "stdout",
     "output_type": "stream",
     "text": [
      "17\n"
     ]
    }
   ],
   "source": [
    "print(len(docs))"
   ]
  },
  {
   "cell_type": "code",
   "execution_count": 5,
   "metadata": {},
   "outputs": [],
   "source": [
    "file_path1 = \"J. K. Rowling - Harry Potter 3 - Prisoner of Azkaban.txt\"\n",
    "with open(file_path1, 'r') as file1:\n",
    "    content = file1.read()\n",
    "chapters = content.split('CHAPTER')\n",
    "chapters = chapters[1:]\n",
    "docs.extend([cleaner(chapter) for chapter in chapters])"
   ]
  },
  {
   "cell_type": "code",
   "execution_count": 6,
   "metadata": {},
   "outputs": [
    {
     "name": "stdout",
     "output_type": "stream",
     "text": [
      "39\n"
     ]
    }
   ],
   "source": [
    "print(len(docs))"
   ]
  },
  {
   "cell_type": "code",
   "execution_count": 7,
   "metadata": {},
   "outputs": [
    {
     "name": "stdout",
     "output_type": "stream",
     "text": [
      "76\n"
     ]
    }
   ],
   "source": [
    "file_path2 = \"J. K. Rowling - Harry Potter 4 - The Goblet of Fire.txt\"\n",
    "with open(file_path2, 'r',encoding='utf-8') as file2:\n",
    "    content = file2.read()\n",
    "chapters = content.split('CHAPTER')\n",
    "chapters = chapters[1:]\n",
    "docs.extend([cleaner(chapter) for chapter in chapters])\n",
    "print(len(docs))"
   ]
  },
  {
   "cell_type": "code",
   "execution_count": 8,
   "metadata": {
    "colab": {
     "base_uri": "https://localhost:8080/"
    },
    "id": "0vMTD1IAH6b-",
    "outputId": "69ec7877-3343-48c4-f9eb-b10096e3aaa7"
   },
   "outputs": [
    {
     "data": {
      "text/plain": [
       "9842"
      ]
     },
     "execution_count": 8,
     "metadata": {},
     "output_type": "execute_result"
    }
   ],
   "source": [
    "max_len = 0\n",
    "for chapter in docs:\n",
    "  tokenized = nltk.word_tokenize(chapter)\n",
    "  max_len = max(max_len, len(tokenized))\n",
    "max_len"
   ]
  },
  {
   "cell_type": "code",
   "execution_count": 225,
   "metadata": {
    "colab": {
     "base_uri": "https://localhost:8080/"
    },
    "id": "0NmMdkZO8R6q",
    "outputId": "375bbfc8-6948-46d3-ff77-6e60bb56a75f"
   },
   "outputs": [],
   "source": [
    "#!pip install transformers"
   ]
  },
  {
   "cell_type": "code",
   "execution_count": 9,
   "metadata": {
    "colab": {
     "base_uri": "https://localhost:8080/"
    },
    "id": "JCCeyhuDHdOu",
    "outputId": "e7ef4644-85e4-4ce3-e431-12258529442f"
   },
   "outputs": [],
   "source": [
    "import os\n",
    "import time\n",
    "import datetime\n",
    "#from google.colab import drive\n",
    "\n",
    "import pandas as pd\n",
    "#import seaborn as sns\n",
    "import numpy as np\n",
    "import random\n",
    "\n",
    "import matplotlib.pyplot as plt\n",
    "%matplotlib inline\n",
    "\n",
    "import torch\n",
    "from torch.utils.data import Dataset, DataLoader, random_split, RandomSampler, SequentialSampler\n",
    "torch.manual_seed(42)\n",
    "\n",
    "from transformers import GPT2LMHeadModel,  GPT2Tokenizer, GPT2Config, GPT2LMHeadModel\n",
    "from transformers import AdamW, get_linear_schedule_with_warmup\n"
   ]
  },
  {
   "cell_type": "code",
   "execution_count": null,
   "metadata": {
    "colab": {
     "base_uri": "https://localhost:8080/"
    },
    "id": "satxtOn9CzgR",
    "outputId": "74b4e9e8-4460-4383-8f3a-97108e3fb6e6"
   },
   "outputs": [],
   "source": [
    "!nvidia-smi"
   ]
  },
  {
   "cell_type": "markdown",
   "metadata": {
    "id": "ZfdCML6Parvv"
   },
   "source": [
    "# Create Training Set\n"
   ]
  },
  {
   "cell_type": "markdown",
   "metadata": {
    "id": "Tuq5bqdr4_a6"
   },
   "source": [
    "Even though these token counts won't match up to the BPE tokenizer's, I'm confident that most lines will be fit under the 768 embedding size limit for the small GPT2 model."
   ]
  },
  {
   "cell_type": "markdown",
   "metadata": {
    "id": "cMml12FJGjPW"
   },
   "source": [
    "# GPT2 Tokenizer"
   ]
  },
  {
   "cell_type": "markdown",
   "metadata": {
    "id": "ANJhbBwdxN-b"
   },
   "source": [
    "Although the defaults take care of this,I thought I'd show that you can specify some of the special tokens."
   ]
  },
  {
   "cell_type": "code",
   "execution_count": 10,
   "metadata": {
    "id": "Z474sSC6oe7A"
   },
   "outputs": [],
   "source": [
    "# Load the GPT tokenizer.\n",
    "tokenizer = GPT2Tokenizer.from_pretrained('gpt2', bos_token='<|startoftext|>', eos_token='<|endoftext|>', pad_token='<|pad|>') #gpt2-medium\n"
   ]
  },
  {
   "cell_type": "code",
   "execution_count": 11,
   "metadata": {
    "colab": {
     "base_uri": "https://localhost:8080/"
    },
    "id": "sh0XKuDvnryn",
    "outputId": "d8473557-d479-4c90-9964-59d141ec16f5"
   },
   "outputs": [
    {
     "name": "stdout",
     "output_type": "stream",
     "text": [
      "The max model length is 1024 for this model, although the actual embedding size for GPT small is 768\n",
      "The beginning of sequence token <|startoftext|> token has the id 50257\n",
      "The end of sequence token <|endoftext|> has the id 50256\n",
      "The padding token <|pad|> has the id 50258\n"
     ]
    }
   ],
   "source": [
    "print(\"The max model length is {} for this model, although the actual embedding size for GPT small is 768\".format(tokenizer.model_max_length))\n",
    "print(\"The beginning of sequence token {} token has the id {}\".format(tokenizer.convert_ids_to_tokens(tokenizer.bos_token_id), tokenizer.bos_token_id))\n",
    "print(\"The end of sequence token {} has the id {}\".format(tokenizer.convert_ids_to_tokens(tokenizer.eos_token_id), tokenizer.eos_token_id))\n",
    "print(\"The padding token {} has the id {}\".format(tokenizer.convert_ids_to_tokens(tokenizer.pad_token_id), tokenizer.pad_token_id))"
   ]
  },
  {
   "cell_type": "markdown",
   "metadata": {
    "id": "ex5O1eV-Pfct"
   },
   "source": [
    "# PyTorch Datasets & Dataloaders\n"
   ]
  },
  {
   "cell_type": "markdown",
   "metadata": {
    "id": "3lgZoOYkxZfx"
   },
   "source": [
    "GPT2 is a large model. Increasing the batch size above 2 has lead to out of memory problems. This can be mitigated by accumulating the gradients but that is out of scope here."
   ]
  },
  {
   "cell_type": "code",
   "execution_count": 12,
   "metadata": {
    "id": "scqrzmqhV__z"
   },
   "outputs": [],
   "source": [
    "batch_size = 2"
   ]
  },
  {
   "cell_type": "markdown",
   "metadata": {
    "id": "lqGMee7Isfpx"
   },
   "source": [
    "I'm using the standard PyTorch approach of loading data in using a [dataset class](https://pytorch.org/tutorials/beginner/data_loading_tutorial.html).\n",
    "\n",
    "I'm passing in the tokenizer as an argument but normally I would  instantiate it within the class."
   ]
  },
  {
   "cell_type": "code",
   "execution_count": 13,
   "metadata": {
    "id": "U_XJVIetKN-h"
   },
   "outputs": [],
   "source": [
    "class GPT2Dataset(Dataset):\n",
    "\n",
    "  def __init__(self, txt_list, tokenizer, gpt2_type=\"gpt2\", max_length=768):\n",
    "\n",
    "    self.tokenizer = tokenizer\n",
    "    self.input_ids = []\n",
    "    self.attn_masks = []\n",
    "\n",
    "    for txt in txt_list:\n",
    "\n",
    "      encodings_dict = tokenizer('<|startoftext|>'+ txt + '<|endoftext|>', truncation=True, max_length=max_length, padding=\"max_length\")\n",
    "\n",
    "      self.input_ids.append(torch.tensor(encodings_dict['input_ids']))\n",
    "      self.attn_masks.append(torch.tensor(encodings_dict['attention_mask']))\n",
    "\n",
    "  def __len__(self):\n",
    "    return len(self.input_ids)\n",
    "\n",
    "  def __getitem__(self, idx):\n",
    "    return self.input_ids[idx], self.attn_masks[idx]"
   ]
  },
  {
   "cell_type": "markdown",
   "metadata": {
    "id": "89Z7aYUgpWrd"
   },
   "source": [
    "To understand how I've used the tokenizer, it's worth reading [the docs](https://huggingface.co/transformers/main_classes/tokenizer.html). I've wrapped each line in the bos and eos tokens.\n",
    "\n",
    "Every tensor passed to the model should be the same length.\n",
    "\n",
    "If the line is shorter than 768 tokens, it will be padded to a length of 768 using the padding token. In addition, an attention mask will be returned that needs to be passed to the model to tell it to ignore the padding tokens.\n",
    "\n",
    "If the line is longer than 768 tokens, it will be truncated without the eos_token. This isn't a problem."
   ]
  },
  {
   "cell_type": "code",
   "execution_count": 14,
   "metadata": {
    "colab": {
     "base_uri": "https://localhost:8080/"
    },
    "id": "Xza_O1_rD7yh",
    "outputId": "25599907-d2a7-4fa3-e221-c88a0b7d5326"
   },
   "outputs": [
    {
     "name": "stdout",
     "output_type": "stream",
     "text": [
      "   68 training samples\n",
      "    8 validation samples\n"
     ]
    }
   ],
   "source": [
    "dataset = GPT2Dataset(docs, tokenizer, max_length=768)\n",
    "\n",
    "# Split into training and validation sets\n",
    "train_size = int(0.9 * len(dataset))\n",
    "val_size = len(dataset) - train_size\n",
    "\n",
    "train_dataset, val_dataset = random_split(dataset, [train_size, val_size])\n",
    "\n",
    "print('{:>5,} training samples'.format(train_size))\n",
    "print('{:>5,} validation samples'.format(val_size))"
   ]
  },
  {
   "cell_type": "code",
   "execution_count": 15,
   "metadata": {
    "id": "x0WeP5PREUuy"
   },
   "outputs": [],
   "source": [
    "# Create the DataLoaders for our training and validation datasets.\n",
    "# We'll take training samples in random order.\n",
    "train_dataloader = DataLoader(\n",
    "            train_dataset,  # The training samples.\n",
    "            sampler = RandomSampler(train_dataset), # Select batches randomly\n",
    "            batch_size = batch_size # Trains with this batch size.\n",
    "        )\n",
    "\n",
    "# For validation the order doesn't matter, so we'll just read them sequentially.\n",
    "validation_dataloader = DataLoader(\n",
    "            val_dataset, # The validation samples.\n",
    "            sampler = SequentialSampler(val_dataset), # Pull out batches sequentially.\n",
    "            batch_size = batch_size # Evaluate with this batch size.\n",
    "        )"
   ]
  },
  {
   "cell_type": "markdown",
   "metadata": {
    "id": "D6TKgyUzPIQc"
   },
   "source": [
    "# Finetune GPT2 Language Model"
   ]
  },
  {
   "cell_type": "code",
   "execution_count": 16,
   "metadata": {
    "id": "gFsCTp_mporB"
   },
   "outputs": [],
   "source": [
    "# I'm not really doing anything with the config buheret\n",
    "configuration = GPT2Config.from_pretrained('gpt2', output_hidden_states=False)\n",
    "\n",
    "# instantiate the model\n",
    "model = GPT2LMHeadModel.from_pretrained(\"gpt2\", config=configuration)\n",
    "\n",
    "# this step is necessary because I've added some tokens (bos_token, etc) to the embeddings\n",
    "# otherwise the tokenizer and model tensors won't match up\n",
    "model.resize_token_embeddings(len(tokenizer))\n",
    "\n",
    "# Tell pytorch to run this model on the GPU.\n",
    "device = torch.device(\"cuda\")\n",
    "model.cuda()\n",
    "\n",
    "# Set the seed value all over the place to make this reproducible.\n",
    "seed_val = 42\n",
    "\n",
    "random.seed(seed_val)\n",
    "np.random.seed(seed_val)\n",
    "torch.manual_seed(seed_val)\n",
    "torch.cuda.manual_seed_all(seed_val)"
   ]
  },
  {
   "cell_type": "code",
   "execution_count": 17,
   "metadata": {},
   "outputs": [
    {
     "name": "stdout",
     "output_type": "stream",
     "text": [
      "cuda\n"
     ]
    }
   ],
   "source": [
    "print(device)"
   ]
  },
  {
   "cell_type": "code",
   "execution_count": 34,
   "metadata": {
    "id": "pBEVY2PYSTXJ"
   },
   "outputs": [],
   "source": [
    "# some parameters I cooked up that work reasonably well\n",
    "\n",
    "epochs = 100\n",
    "learning_rate = 5e-4\n",
    "warmup_steps = 1e2\n",
    "epsilon = 1e-8\n",
    "\n",
    "# this produces sample output every 100 steps\n",
    "sample_every = 100"
   ]
  },
  {
   "cell_type": "code",
   "execution_count": 35,
   "metadata": {
    "colab": {
     "base_uri": "https://localhost:8080/"
    },
    "id": "GLs72DuMODJO",
    "outputId": "e5f124ad-d6d1-4e9d-835b-ea030190d8af"
   },
   "outputs": [],
   "source": [
    "# Note: AdamW is a class from the huggingface library (as opposed to pytorch)\n",
    "optimizer = AdamW(model.parameters(),\n",
    "                  lr = learning_rate,\n",
    "                  eps = epsilon\n",
    "                )"
   ]
  },
  {
   "cell_type": "code",
   "execution_count": 36,
   "metadata": {
    "id": "-p0upAhhRiIx"
   },
   "outputs": [],
   "source": [
    "# Total number of training steps is [number of batches] x [number of epochs].\n",
    "# (Note that this is not the same as the number of training samples).\n",
    "total_steps = len(train_dataloader) * epochs\n",
    "\n",
    "# Create the learning rate scheduler.\n",
    "# This changes the learning rate as the training loop progresses\n",
    "scheduler = get_linear_schedule_with_warmup(optimizer,\n",
    "                                            num_warmup_steps = warmup_steps,\n",
    "                                            num_training_steps = total_steps)"
   ]
  },
  {
   "cell_type": "code",
   "execution_count": 37,
   "metadata": {
    "id": "gpt6tR83keZD"
   },
   "outputs": [],
   "source": [
    "def format_time(elapsed):\n",
    "    return str(datetime.timedelta(seconds=int(round((elapsed)))))"
   ]
  },
  {
   "cell_type": "code",
   "execution_count": 38,
   "metadata": {
    "colab": {
     "base_uri": "https://localhost:8080/"
    },
    "id": "vCPohrZ-CTWu",
    "outputId": "f0f5c373-3933-4434-e42e-79d81e4dc630"
   },
   "outputs": [
    {
     "name": "stdout",
     "output_type": "stream",
     "text": [
      "\n",
      "======== Epoch 1 / 100 ========\n",
      "Training...\n",
      "\n",
      "  Average training loss: 2.56\n",
      "  Training epoch took: 0:00:05\n",
      "\n",
      "Running Validation...\n",
      "  Validation Loss: 3.73\n",
      "  Validation took: 0:00:00\n",
      "\n",
      "======== Epoch 2 / 100 ========\n",
      "Training...\n",
      "\n",
      "  Average training loss: 2.44\n",
      "  Training epoch took: 0:00:05\n",
      "\n",
      "Running Validation...\n",
      "  Validation Loss: 3.94\n",
      "  Validation took: 0:00:00\n",
      "\n",
      "======== Epoch 3 / 100 ========\n",
      "Training...\n",
      "\n",
      "  Average training loss: 2.17\n",
      "  Training epoch took: 0:00:05\n",
      "\n",
      "Running Validation...\n",
      "  Validation Loss: 4.08\n",
      "  Validation took: 0:00:00\n",
      "\n",
      "======== Epoch 4 / 100 ========\n",
      "Training...\n",
      "\n",
      "  Average training loss: 1.80\n",
      "  Training epoch took: 0:00:05\n",
      "\n",
      "Running Validation...\n",
      "  Validation Loss: 4.47\n",
      "  Validation took: 0:00:00\n",
      "\n",
      "======== Epoch 5 / 100 ========\n",
      "Training...\n",
      "\n",
      "  Average training loss: 1.37\n",
      "  Training epoch took: 0:00:05\n",
      "\n",
      "Running Validation...\n",
      "  Validation Loss: 4.74\n",
      "  Validation took: 0:00:00\n",
      "\n",
      "======== Epoch 6 / 100 ========\n",
      "Training...\n",
      "\n",
      "  Average training loss: 0.99\n",
      "  Training epoch took: 0:00:05\n",
      "\n",
      "Running Validation...\n",
      "  Validation Loss: 5.35\n",
      "  Validation took: 0:00:00\n",
      "\n",
      "======== Epoch 7 / 100 ========\n",
      "Training...\n",
      "\n",
      "  Average training loss: 0.70\n",
      "  Training epoch took: 0:00:05\n",
      "\n",
      "Running Validation...\n",
      "  Validation Loss: 5.58\n",
      "  Validation took: 0:00:00\n",
      "\n",
      "======== Epoch 8 / 100 ========\n",
      "Training...\n",
      "\n",
      "  Average training loss: 0.51\n",
      "  Training epoch took: 0:00:05\n",
      "\n",
      "Running Validation...\n",
      "  Validation Loss: 5.97\n",
      "  Validation took: 0:00:00\n",
      "\n",
      "======== Epoch 9 / 100 ========\n",
      "Training...\n",
      "\n",
      "  Average training loss: 0.37\n",
      "  Training epoch took: 0:00:05\n",
      "\n",
      "Running Validation...\n",
      "  Validation Loss: 6.16\n",
      "  Validation took: 0:00:00\n",
      "\n",
      "======== Epoch 10 / 100 ========\n",
      "Training...\n",
      "\n",
      "  Average training loss: 0.26\n",
      "  Training epoch took: 0:00:05\n",
      "\n",
      "Running Validation...\n",
      "  Validation Loss: 6.42\n",
      "  Validation took: 0:00:00\n",
      "\n",
      "======== Epoch 11 / 100 ========\n",
      "Training...\n",
      "\n",
      "  Average training loss: 0.20\n",
      "  Training epoch took: 0:00:05\n",
      "\n",
      "Running Validation...\n",
      "  Validation Loss: 6.58\n",
      "  Validation took: 0:00:00\n",
      "\n",
      "======== Epoch 12 / 100 ========\n",
      "Training...\n",
      "\n",
      "  Average training loss: 0.16\n",
      "  Training epoch took: 0:00:05\n",
      "\n",
      "Running Validation...\n",
      "  Validation Loss: 6.58\n",
      "  Validation took: 0:00:00\n",
      "\n",
      "======== Epoch 13 / 100 ========\n",
      "Training...\n",
      "\n",
      "  Average training loss: 0.13\n",
      "  Training epoch took: 0:00:05\n",
      "\n",
      "Running Validation...\n",
      "  Validation Loss: 6.63\n",
      "  Validation took: 0:00:00\n",
      "\n",
      "======== Epoch 14 / 100 ========\n",
      "Training...\n",
      "\n",
      "  Average training loss: 0.10\n",
      "  Training epoch took: 0:00:05\n",
      "\n",
      "Running Validation...\n",
      "  Validation Loss: 6.75\n",
      "  Validation took: 0:00:00\n",
      "\n",
      "======== Epoch 15 / 100 ========\n",
      "Training...\n",
      "\n",
      "  Average training loss: 0.08\n",
      "  Training epoch took: 0:00:05\n",
      "\n",
      "Running Validation...\n",
      "  Validation Loss: 6.75\n",
      "  Validation took: 0:00:00\n",
      "\n",
      "======== Epoch 16 / 100 ========\n",
      "Training...\n",
      "\n",
      "  Average training loss: 0.07\n",
      "  Training epoch took: 0:00:05\n",
      "\n",
      "Running Validation...\n",
      "  Validation Loss: 6.81\n",
      "  Validation took: 0:00:00\n",
      "\n",
      "======== Epoch 17 / 100 ========\n",
      "Training...\n",
      "\n",
      "  Average training loss: 0.06\n",
      "  Training epoch took: 0:00:05\n",
      "\n",
      "Running Validation...\n",
      "  Validation Loss: 6.95\n",
      "  Validation took: 0:00:00\n",
      "\n",
      "======== Epoch 18 / 100 ========\n",
      "Training...\n",
      "\n",
      "  Average training loss: 0.06\n",
      "  Training epoch took: 0:00:05\n",
      "\n",
      "Running Validation...\n",
      "  Validation Loss: 6.94\n",
      "  Validation took: 0:00:00\n",
      "\n",
      "======== Epoch 19 / 100 ========\n",
      "Training...\n",
      "\n",
      "  Average training loss: 0.06\n",
      "  Training epoch took: 0:00:05\n",
      "\n",
      "Running Validation...\n",
      "  Validation Loss: 6.95\n",
      "  Validation took: 0:00:00\n",
      "\n",
      "======== Epoch 20 / 100 ========\n",
      "Training...\n",
      "\n",
      "  Average training loss: 0.05\n",
      "  Training epoch took: 0:00:05\n",
      "\n",
      "Running Validation...\n",
      "  Validation Loss: 7.03\n",
      "  Validation took: 0:00:00\n",
      "\n",
      "======== Epoch 21 / 100 ========\n",
      "Training...\n",
      "\n",
      "  Average training loss: 0.05\n",
      "  Training epoch took: 0:00:05\n",
      "\n",
      "Running Validation...\n",
      "  Validation Loss: 7.12\n",
      "  Validation took: 0:00:00\n",
      "\n",
      "======== Epoch 22 / 100 ========\n",
      "Training...\n",
      "\n",
      "  Average training loss: 0.04\n",
      "  Training epoch took: 0:00:05\n",
      "\n",
      "Running Validation...\n",
      "  Validation Loss: 7.06\n",
      "  Validation took: 0:00:00\n",
      "\n",
      "======== Epoch 23 / 100 ========\n",
      "Training...\n",
      "\n",
      "  Average training loss: 0.04\n",
      "  Training epoch took: 0:00:05\n",
      "\n",
      "Running Validation...\n",
      "  Validation Loss: 7.08\n",
      "  Validation took: 0:00:00\n",
      "\n",
      "======== Epoch 24 / 100 ========\n",
      "Training...\n",
      "\n",
      "  Average training loss: 0.04\n",
      "  Training epoch took: 0:00:05\n",
      "\n",
      "Running Validation...\n",
      "  Validation Loss: 7.15\n",
      "  Validation took: 0:00:00\n",
      "\n",
      "======== Epoch 25 / 100 ========\n",
      "Training...\n",
      "\n",
      "  Average training loss: 0.04\n",
      "  Training epoch took: 0:00:05\n",
      "\n",
      "Running Validation...\n",
      "  Validation Loss: 7.19\n",
      "  Validation took: 0:00:00\n",
      "\n",
      "======== Epoch 26 / 100 ========\n",
      "Training...\n",
      "\n",
      "  Average training loss: 0.03\n",
      "  Training epoch took: 0:00:05\n",
      "\n",
      "Running Validation...\n",
      "  Validation Loss: 7.13\n",
      "  Validation took: 0:00:00\n",
      "\n",
      "======== Epoch 27 / 100 ========\n",
      "Training...\n",
      "\n",
      "  Average training loss: 0.03\n",
      "  Training epoch took: 0:00:05\n",
      "\n",
      "Running Validation...\n",
      "  Validation Loss: 7.18\n",
      "  Validation took: 0:00:00\n",
      "\n",
      "======== Epoch 28 / 100 ========\n",
      "Training...\n",
      "\n",
      "  Average training loss: 0.03\n",
      "  Training epoch took: 0:00:05\n",
      "\n",
      "Running Validation...\n",
      "  Validation Loss: 7.22\n",
      "  Validation took: 0:00:00\n",
      "\n",
      "======== Epoch 29 / 100 ========\n",
      "Training...\n",
      "\n",
      "  Average training loss: 0.03\n",
      "  Training epoch took: 0:00:05\n",
      "\n",
      "Running Validation...\n",
      "  Validation Loss: 7.25\n",
      "  Validation took: 0:00:00\n",
      "\n",
      "======== Epoch 30 / 100 ========\n",
      "Training...\n",
      "\n",
      "  Average training loss: 0.03\n",
      "  Training epoch took: 0:00:05\n",
      "\n",
      "Running Validation...\n",
      "  Validation Loss: 7.39\n",
      "  Validation took: 0:00:00\n",
      "\n",
      "======== Epoch 31 / 100 ========\n",
      "Training...\n",
      "\n",
      "  Average training loss: 0.03\n",
      "  Training epoch took: 0:00:05\n",
      "\n",
      "Running Validation...\n",
      "  Validation Loss: 7.36\n",
      "  Validation took: 0:00:00\n",
      "\n",
      "======== Epoch 32 / 100 ========\n",
      "Training...\n",
      "\n",
      "  Average training loss: 0.03\n",
      "  Training epoch took: 0:00:05\n",
      "\n",
      "Running Validation...\n",
      "  Validation Loss: 7.35\n",
      "  Validation took: 0:00:00\n",
      "\n",
      "======== Epoch 33 / 100 ========\n",
      "Training...\n",
      "\n",
      "  Average training loss: 0.03\n",
      "  Training epoch took: 0:00:05\n",
      "\n",
      "Running Validation...\n",
      "  Validation Loss: 7.33\n",
      "  Validation took: 0:00:00\n",
      "\n",
      "======== Epoch 34 / 100 ========\n",
      "Training...\n",
      "\n",
      "  Average training loss: 0.03\n",
      "  Training epoch took: 0:00:05\n",
      "\n",
      "Running Validation...\n",
      "  Validation Loss: 7.37\n",
      "  Validation took: 0:00:00\n",
      "\n",
      "======== Epoch 35 / 100 ========\n",
      "Training...\n",
      "\n",
      "  Average training loss: 0.03\n",
      "  Training epoch took: 0:00:05\n",
      "\n",
      "Running Validation...\n",
      "  Validation Loss: 7.35\n",
      "  Validation took: 0:00:00\n",
      "\n",
      "======== Epoch 36 / 100 ========\n",
      "Training...\n",
      "\n",
      "  Average training loss: 0.03\n",
      "  Training epoch took: 0:00:05\n",
      "\n",
      "Running Validation...\n",
      "  Validation Loss: 7.41\n",
      "  Validation took: 0:00:00\n",
      "\n",
      "======== Epoch 37 / 100 ========\n",
      "Training...\n",
      "\n",
      "  Average training loss: 0.03\n",
      "  Training epoch took: 0:00:05\n",
      "\n",
      "Running Validation...\n",
      "  Validation Loss: 7.44\n",
      "  Validation took: 0:00:00\n",
      "\n",
      "======== Epoch 38 / 100 ========\n",
      "Training...\n",
      "\n",
      "  Average training loss: 0.02\n",
      "  Training epoch took: 0:00:05\n",
      "\n",
      "Running Validation...\n",
      "  Validation Loss: 7.45\n",
      "  Validation took: 0:00:00\n",
      "\n",
      "======== Epoch 39 / 100 ========\n",
      "Training...\n",
      "\n",
      "  Average training loss: 0.02\n",
      "  Training epoch took: 0:00:05\n",
      "\n",
      "Running Validation...\n",
      "  Validation Loss: 7.48\n",
      "  Validation took: 0:00:00\n",
      "\n",
      "======== Epoch 40 / 100 ========\n",
      "Training...\n",
      "\n",
      "  Average training loss: 0.02\n",
      "  Training epoch took: 0:00:05\n",
      "\n",
      "Running Validation...\n",
      "  Validation Loss: 7.49\n",
      "  Validation took: 0:00:00\n",
      "\n",
      "======== Epoch 41 / 100 ========\n",
      "Training...\n",
      "\n",
      "  Average training loss: 0.02\n",
      "  Training epoch took: 0:00:05\n",
      "\n",
      "Running Validation...\n",
      "  Validation Loss: 7.52\n",
      "  Validation took: 0:00:00\n",
      "\n",
      "======== Epoch 42 / 100 ========\n",
      "Training...\n",
      "\n",
      "  Average training loss: 0.02\n",
      "  Training epoch took: 0:00:05\n",
      "\n",
      "Running Validation...\n",
      "  Validation Loss: 7.58\n",
      "  Validation took: 0:00:00\n",
      "\n",
      "======== Epoch 43 / 100 ========\n",
      "Training...\n",
      "\n",
      "  Average training loss: 0.02\n",
      "  Training epoch took: 0:00:05\n",
      "\n",
      "Running Validation...\n",
      "  Validation Loss: 7.54\n",
      "  Validation took: 0:00:00\n",
      "\n",
      "======== Epoch 44 / 100 ========\n",
      "Training...\n",
      "\n",
      "  Average training loss: 0.02\n",
      "  Training epoch took: 0:00:05\n",
      "\n",
      "Running Validation...\n",
      "  Validation Loss: 7.53\n",
      "  Validation took: 0:00:00\n",
      "\n",
      "======== Epoch 45 / 100 ========\n",
      "Training...\n",
      "\n",
      "  Average training loss: 0.02\n",
      "  Training epoch took: 0:00:05\n",
      "\n",
      "Running Validation...\n",
      "  Validation Loss: 7.58\n",
      "  Validation took: 0:00:00\n",
      "\n",
      "======== Epoch 46 / 100 ========\n",
      "Training...\n",
      "\n",
      "  Average training loss: 0.02\n",
      "  Training epoch took: 0:00:05\n",
      "\n",
      "Running Validation...\n",
      "  Validation Loss: 7.61\n",
      "  Validation took: 0:00:00\n",
      "\n",
      "======== Epoch 47 / 100 ========\n",
      "Training...\n",
      "\n",
      "  Average training loss: 0.02\n",
      "  Training epoch took: 0:00:05\n",
      "\n",
      "Running Validation...\n",
      "  Validation Loss: 7.57\n",
      "  Validation took: 0:00:00\n",
      "\n",
      "======== Epoch 48 / 100 ========\n",
      "Training...\n",
      "\n",
      "  Average training loss: 0.01\n",
      "  Training epoch took: 0:00:05\n",
      "\n",
      "Running Validation...\n",
      "  Validation Loss: 7.67\n",
      "  Validation took: 0:00:00\n",
      "\n",
      "======== Epoch 49 / 100 ========\n",
      "Training...\n",
      "\n",
      "  Average training loss: 0.01\n",
      "  Training epoch took: 0:00:05\n",
      "\n",
      "Running Validation...\n",
      "  Validation Loss: 7.68\n",
      "  Validation took: 0:00:00\n",
      "\n",
      "======== Epoch 50 / 100 ========\n",
      "Training...\n",
      "\n",
      "  Average training loss: 0.02\n",
      "  Training epoch took: 0:00:05\n",
      "\n",
      "Running Validation...\n",
      "  Validation Loss: 7.61\n",
      "  Validation took: 0:00:00\n",
      "\n",
      "======== Epoch 51 / 100 ========\n",
      "Training...\n",
      "\n",
      "  Average training loss: 0.01\n",
      "  Training epoch took: 0:00:05\n",
      "\n",
      "Running Validation...\n",
      "  Validation Loss: 7.64\n",
      "  Validation took: 0:00:00\n",
      "\n",
      "======== Epoch 52 / 100 ========\n",
      "Training...\n",
      "\n",
      "  Average training loss: 0.01\n",
      "  Training epoch took: 0:00:05\n",
      "\n",
      "Running Validation...\n",
      "  Validation Loss: 7.65\n",
      "  Validation took: 0:00:00\n",
      "\n",
      "======== Epoch 53 / 100 ========\n",
      "Training...\n",
      "\n",
      "  Average training loss: 0.01\n",
      "  Training epoch took: 0:00:05\n",
      "\n",
      "Running Validation...\n",
      "  Validation Loss: 7.63\n",
      "  Validation took: 0:00:00\n",
      "\n",
      "======== Epoch 54 / 100 ========\n",
      "Training...\n",
      "\n",
      "  Average training loss: 0.02\n",
      "  Training epoch took: 0:00:05\n",
      "\n",
      "Running Validation...\n",
      "  Validation Loss: 7.70\n",
      "  Validation took: 0:00:00\n",
      "\n",
      "======== Epoch 55 / 100 ========\n",
      "Training...\n",
      "\n",
      "  Average training loss: 0.02\n",
      "  Training epoch took: 0:00:05\n",
      "\n",
      "Running Validation...\n",
      "  Validation Loss: 7.69\n",
      "  Validation took: 0:00:00\n",
      "\n",
      "======== Epoch 56 / 100 ========\n",
      "Training...\n",
      "\n",
      "  Average training loss: 0.02\n",
      "  Training epoch took: 0:00:05\n",
      "\n",
      "Running Validation...\n",
      "  Validation Loss: 7.61\n",
      "  Validation took: 0:00:00\n",
      "\n",
      "======== Epoch 57 / 100 ========\n",
      "Training...\n",
      "\n",
      "  Average training loss: 0.01\n",
      "  Training epoch took: 0:00:05\n",
      "\n",
      "Running Validation...\n",
      "  Validation Loss: 7.68\n",
      "  Validation took: 0:00:00\n",
      "\n",
      "======== Epoch 58 / 100 ========\n",
      "Training...\n",
      "\n",
      "  Average training loss: 0.02\n",
      "  Training epoch took: 0:00:05\n",
      "\n",
      "Running Validation...\n",
      "  Validation Loss: 7.68\n",
      "  Validation took: 0:00:00\n",
      "\n",
      "======== Epoch 59 / 100 ========\n",
      "Training...\n",
      "\n",
      "  Average training loss: 0.01\n",
      "  Training epoch took: 0:00:05\n",
      "\n",
      "Running Validation...\n",
      "  Validation Loss: 7.66\n",
      "  Validation took: 0:00:00\n",
      "\n",
      "======== Epoch 60 / 100 ========\n",
      "Training...\n",
      "\n",
      "  Average training loss: 0.01\n",
      "  Training epoch took: 0:00:05\n",
      "\n",
      "Running Validation...\n",
      "  Validation Loss: 7.69\n",
      "  Validation took: 0:00:00\n",
      "\n",
      "======== Epoch 61 / 100 ========\n",
      "Training...\n",
      "\n",
      "  Average training loss: 0.01\n",
      "  Training epoch took: 0:00:05\n",
      "\n",
      "Running Validation...\n",
      "  Validation Loss: 7.72\n",
      "  Validation took: 0:00:00\n",
      "\n",
      "======== Epoch 62 / 100 ========\n",
      "Training...\n",
      "\n",
      "  Average training loss: 0.01\n",
      "  Training epoch took: 0:00:05\n",
      "\n",
      "Running Validation...\n",
      "  Validation Loss: 7.73\n",
      "  Validation took: 0:00:00\n",
      "\n",
      "======== Epoch 63 / 100 ========\n",
      "Training...\n",
      "\n",
      "  Average training loss: 0.01\n",
      "  Training epoch took: 0:00:05\n",
      "\n",
      "Running Validation...\n",
      "  Validation Loss: 7.73\n",
      "  Validation took: 0:00:00\n",
      "\n",
      "======== Epoch 64 / 100 ========\n",
      "Training...\n",
      "\n",
      "  Average training loss: 0.01\n",
      "  Training epoch took: 0:00:05\n",
      "\n",
      "Running Validation...\n",
      "  Validation Loss: 7.74\n",
      "  Validation took: 0:00:00\n",
      "\n",
      "======== Epoch 65 / 100 ========\n",
      "Training...\n",
      "\n",
      "  Average training loss: 0.01\n",
      "  Training epoch took: 0:00:05\n",
      "\n",
      "Running Validation...\n",
      "  Validation Loss: 7.75\n",
      "  Validation took: 0:00:00\n",
      "\n",
      "======== Epoch 66 / 100 ========\n",
      "Training...\n",
      "\n",
      "  Average training loss: 0.01\n",
      "  Training epoch took: 0:00:05\n",
      "\n",
      "Running Validation...\n",
      "  Validation Loss: 7.77\n",
      "  Validation took: 0:00:00\n",
      "\n",
      "======== Epoch 67 / 100 ========\n",
      "Training...\n",
      "\n",
      "  Average training loss: 0.01\n",
      "  Training epoch took: 0:00:05\n",
      "\n",
      "Running Validation...\n",
      "  Validation Loss: 7.80\n",
      "  Validation took: 0:00:00\n",
      "\n",
      "======== Epoch 68 / 100 ========\n",
      "Training...\n",
      "\n",
      "  Average training loss: 0.01\n",
      "  Training epoch took: 0:00:05\n",
      "\n",
      "Running Validation...\n",
      "  Validation Loss: 7.76\n",
      "  Validation took: 0:00:00\n",
      "\n",
      "======== Epoch 69 / 100 ========\n",
      "Training...\n",
      "\n",
      "  Average training loss: 0.01\n",
      "  Training epoch took: 0:00:05\n",
      "\n",
      "Running Validation...\n",
      "  Validation Loss: 7.77\n",
      "  Validation took: 0:00:00\n",
      "\n",
      "======== Epoch 70 / 100 ========\n",
      "Training...\n",
      "\n",
      "  Average training loss: 0.01\n",
      "  Training epoch took: 0:00:05\n",
      "\n",
      "Running Validation...\n",
      "  Validation Loss: 7.80\n",
      "  Validation took: 0:00:00\n",
      "\n",
      "======== Epoch 71 / 100 ========\n",
      "Training...\n",
      "\n",
      "  Average training loss: 0.01\n",
      "  Training epoch took: 0:00:05\n",
      "\n",
      "Running Validation...\n",
      "  Validation Loss: 7.75\n",
      "  Validation took: 0:00:00\n",
      "\n",
      "======== Epoch 72 / 100 ========\n",
      "Training...\n",
      "\n",
      "  Average training loss: 0.01\n",
      "  Training epoch took: 0:00:05\n",
      "\n",
      "Running Validation...\n",
      "  Validation Loss: 7.79\n",
      "  Validation took: 0:00:00\n",
      "\n",
      "======== Epoch 73 / 100 ========\n",
      "Training...\n",
      "\n",
      "  Average training loss: 0.01\n",
      "  Training epoch took: 0:00:05\n",
      "\n",
      "Running Validation...\n",
      "  Validation Loss: 7.84\n",
      "  Validation took: 0:00:00\n",
      "\n",
      "======== Epoch 74 / 100 ========\n",
      "Training...\n",
      "\n",
      "  Average training loss: 0.01\n",
      "  Training epoch took: 0:00:05\n",
      "\n",
      "Running Validation...\n",
      "  Validation Loss: 7.82\n",
      "  Validation took: 0:00:00\n",
      "\n",
      "======== Epoch 75 / 100 ========\n",
      "Training...\n",
      "\n",
      "  Average training loss: 0.01\n",
      "  Training epoch took: 0:00:05\n",
      "\n",
      "Running Validation...\n",
      "  Validation Loss: 7.84\n",
      "  Validation took: 0:00:00\n",
      "\n",
      "======== Epoch 76 / 100 ========\n",
      "Training...\n",
      "\n",
      "  Average training loss: 0.01\n",
      "  Training epoch took: 0:00:05\n",
      "\n",
      "Running Validation...\n",
      "  Validation Loss: 7.87\n",
      "  Validation took: 0:00:00\n",
      "\n",
      "======== Epoch 77 / 100 ========\n",
      "Training...\n",
      "\n",
      "  Average training loss: 0.01\n",
      "  Training epoch took: 0:00:05\n",
      "\n",
      "Running Validation...\n",
      "  Validation Loss: 7.85\n",
      "  Validation took: 0:00:00\n",
      "\n",
      "======== Epoch 78 / 100 ========\n",
      "Training...\n",
      "\n",
      "  Average training loss: 0.01\n",
      "  Training epoch took: 0:00:05\n",
      "\n",
      "Running Validation...\n",
      "  Validation Loss: 7.84\n",
      "  Validation took: 0:00:00\n",
      "\n",
      "======== Epoch 79 / 100 ========\n",
      "Training...\n",
      "\n",
      "  Average training loss: 0.01\n",
      "  Training epoch took: 0:00:05\n",
      "\n",
      "Running Validation...\n",
      "  Validation Loss: 7.84\n",
      "  Validation took: 0:00:00\n",
      "\n",
      "======== Epoch 80 / 100 ========\n",
      "Training...\n",
      "\n",
      "  Average training loss: 0.01\n",
      "  Training epoch took: 0:00:05\n",
      "\n",
      "Running Validation...\n",
      "  Validation Loss: 7.87\n",
      "  Validation took: 0:00:00\n",
      "\n",
      "======== Epoch 81 / 100 ========\n",
      "Training...\n",
      "\n",
      "  Average training loss: 0.01\n",
      "  Training epoch took: 0:00:05\n",
      "\n",
      "Running Validation...\n",
      "  Validation Loss: 7.85\n",
      "  Validation took: 0:00:00\n",
      "\n",
      "======== Epoch 82 / 100 ========\n",
      "Training...\n",
      "\n",
      "  Average training loss: 0.01\n",
      "  Training epoch took: 0:00:05\n",
      "\n",
      "Running Validation...\n",
      "  Validation Loss: 7.83\n",
      "  Validation took: 0:00:00\n",
      "\n",
      "======== Epoch 83 / 100 ========\n",
      "Training...\n",
      "\n",
      "  Average training loss: 0.01\n",
      "  Training epoch took: 0:00:05\n",
      "\n",
      "Running Validation...\n",
      "  Validation Loss: 7.85\n",
      "  Validation took: 0:00:00\n",
      "\n",
      "======== Epoch 84 / 100 ========\n",
      "Training...\n",
      "\n",
      "  Average training loss: 0.01\n",
      "  Training epoch took: 0:00:05\n",
      "\n",
      "Running Validation...\n",
      "  Validation Loss: 7.86\n",
      "  Validation took: 0:00:00\n",
      "\n",
      "======== Epoch 85 / 100 ========\n",
      "Training...\n",
      "\n",
      "  Average training loss: 0.01\n",
      "  Training epoch took: 0:00:05\n",
      "\n",
      "Running Validation...\n",
      "  Validation Loss: 7.85\n",
      "  Validation took: 0:00:00\n",
      "\n",
      "======== Epoch 86 / 100 ========\n",
      "Training...\n",
      "\n",
      "  Average training loss: 0.01\n",
      "  Training epoch took: 0:00:05\n",
      "\n",
      "Running Validation...\n",
      "  Validation Loss: 7.83\n",
      "  Validation took: 0:00:00\n",
      "\n",
      "======== Epoch 87 / 100 ========\n",
      "Training...\n",
      "\n",
      "  Average training loss: 0.01\n",
      "  Training epoch took: 0:00:05\n",
      "\n",
      "Running Validation...\n",
      "  Validation Loss: 7.85\n",
      "  Validation took: 0:00:00\n",
      "\n",
      "======== Epoch 88 / 100 ========\n",
      "Training...\n",
      "\n",
      "  Average training loss: 0.01\n",
      "  Training epoch took: 0:00:05\n",
      "\n",
      "Running Validation...\n",
      "  Validation Loss: 7.87\n",
      "  Validation took: 0:00:00\n",
      "\n",
      "======== Epoch 89 / 100 ========\n",
      "Training...\n",
      "\n",
      "  Average training loss: 0.01\n",
      "  Training epoch took: 0:00:05\n",
      "\n",
      "Running Validation...\n",
      "  Validation Loss: 7.87\n",
      "  Validation took: 0:00:00\n",
      "\n",
      "======== Epoch 90 / 100 ========\n",
      "Training...\n",
      "\n",
      "  Average training loss: 0.01\n",
      "  Training epoch took: 0:00:05\n",
      "\n",
      "Running Validation...\n",
      "  Validation Loss: 7.85\n",
      "  Validation took: 0:00:00\n",
      "\n",
      "======== Epoch 91 / 100 ========\n",
      "Training...\n",
      "\n",
      "  Average training loss: 0.01\n",
      "  Training epoch took: 0:00:05\n",
      "\n",
      "Running Validation...\n",
      "  Validation Loss: 7.84\n",
      "  Validation took: 0:00:00\n",
      "\n",
      "======== Epoch 92 / 100 ========\n",
      "Training...\n",
      "\n",
      "  Average training loss: 0.01\n",
      "  Training epoch took: 0:00:05\n",
      "\n",
      "Running Validation...\n",
      "  Validation Loss: 7.84\n",
      "  Validation took: 0:00:00\n",
      "\n",
      "======== Epoch 93 / 100 ========\n",
      "Training...\n",
      "\n",
      "  Average training loss: 0.01\n",
      "  Training epoch took: 0:00:05\n",
      "\n",
      "Running Validation...\n",
      "  Validation Loss: 7.85\n",
      "  Validation took: 0:00:00\n",
      "\n",
      "======== Epoch 94 / 100 ========\n",
      "Training...\n",
      "\n",
      "  Average training loss: 0.01\n",
      "  Training epoch took: 0:00:05\n",
      "\n",
      "Running Validation...\n",
      "  Validation Loss: 7.86\n",
      "  Validation took: 0:00:00\n",
      "\n",
      "======== Epoch 95 / 100 ========\n",
      "Training...\n",
      "\n",
      "  Average training loss: 0.01\n",
      "  Training epoch took: 0:00:05\n",
      "\n",
      "Running Validation...\n",
      "  Validation Loss: 7.87\n",
      "  Validation took: 0:00:00\n",
      "\n",
      "======== Epoch 96 / 100 ========\n",
      "Training...\n",
      "\n",
      "  Average training loss: 0.01\n",
      "  Training epoch took: 0:00:05\n",
      "\n",
      "Running Validation...\n",
      "  Validation Loss: 7.87\n",
      "  Validation took: 0:00:00\n",
      "\n",
      "======== Epoch 97 / 100 ========\n",
      "Training...\n",
      "\n",
      "  Average training loss: 0.01\n",
      "  Training epoch took: 0:00:05\n",
      "\n",
      "Running Validation...\n",
      "  Validation Loss: 7.87\n",
      "  Validation took: 0:00:00\n",
      "\n",
      "======== Epoch 98 / 100 ========\n",
      "Training...\n",
      "\n",
      "  Average training loss: 0.01\n",
      "  Training epoch took: 0:00:05\n",
      "\n",
      "Running Validation...\n",
      "  Validation Loss: 7.87\n",
      "  Validation took: 0:00:00\n",
      "\n",
      "======== Epoch 99 / 100 ========\n",
      "Training...\n",
      "\n",
      "  Average training loss: 0.01\n",
      "  Training epoch took: 0:00:05\n",
      "\n",
      "Running Validation...\n",
      "  Validation Loss: 7.87\n",
      "  Validation took: 0:00:00\n",
      "\n",
      "======== Epoch 100 / 100 ========\n",
      "Training...\n",
      "\n",
      "  Average training loss: 0.01\n",
      "  Training epoch took: 0:00:05\n",
      "\n",
      "Running Validation...\n",
      "  Validation Loss: 7.87\n",
      "  Validation took: 0:00:00\n",
      "\n",
      "Training complete!\n",
      "Total training took 0:09:09 (h:mm:ss)\n"
     ]
    }
   ],
   "source": [
    "total_t0 = time.time()\n",
    "\n",
    "training_stats = []\n",
    "\n",
    "model = model.to(device)\n",
    "\n",
    "for epoch_i in range(0, epochs):\n",
    "\n",
    "    # ========================================\n",
    "    #               Training\n",
    "    # ========================================\n",
    "\n",
    "    print(\"\")\n",
    "    print('======== Epoch {:} / {:} ========'.format(epoch_i + 1, epochs))\n",
    "    print('Training...')\n",
    "\n",
    "    t0 = time.time()\n",
    "\n",
    "    total_train_loss = 0\n",
    "\n",
    "    model.train()\n",
    "\n",
    "    for step, batch in enumerate(train_dataloader):\n",
    "\n",
    "        b_input_ids = batch[0].to(device)\n",
    "        b_labels = batch[0].to(device)\n",
    "        b_masks = batch[1].to(device)\n",
    "\n",
    "        model.zero_grad()\n",
    "\n",
    "        outputs = model(  b_input_ids,\n",
    "                          labels=b_labels,\n",
    "                          attention_mask = b_masks,\n",
    "                          token_type_ids=None\n",
    "                        )\n",
    "\n",
    "        loss = outputs[0]\n",
    "\n",
    "        batch_loss = loss.item()\n",
    "        total_train_loss += batch_loss\n",
    "\n",
    "        # Get sample every x batches.\n",
    "        if step % sample_every == 0 and not step == 0:\n",
    "\n",
    "            elapsed = format_time(time.time() - t0)\n",
    "            print('  Batch {:>5,}  of  {:>5,}. Loss: {:>5,}.   Elapsed: {:}.'.format(step, len(train_dataloader), batch_loss, elapsed))\n",
    "\n",
    "            model.eval()\n",
    "\n",
    "            sample_outputs = model.generate(\n",
    "                                    bos_token_id=random.randint(1,30000),\n",
    "                                    do_sample=True,\n",
    "                                    top_k=50,\n",
    "                                    max_length = 200,\n",
    "                                    top_p=0.95,\n",
    "                                    num_return_sequences=1\n",
    "                                )\n",
    "            for i, sample_output in enumerate(sample_outputs):\n",
    "                  print(\"{}: {}\".format(i, tokenizer.decode(sample_output, skip_special_tokens=True)))\n",
    "\n",
    "            model.train()\n",
    "\n",
    "        loss.backward()\n",
    "\n",
    "        optimizer.step()\n",
    "\n",
    "        scheduler.step()\n",
    "\n",
    "    # Calculate the average loss over all of the batches.\n",
    "    avg_train_loss = total_train_loss / len(train_dataloader)\n",
    "\n",
    "    # Measure how long this epoch took.\n",
    "    training_time = format_time(time.time() - t0)\n",
    "\n",
    "    print(\"\")\n",
    "    print(\"  Average training loss: {0:.2f}\".format(avg_train_loss))\n",
    "    print(\"  Training epoch took: {:}\".format(training_time))\n",
    "\n",
    "    # ========================================\n",
    "    #               Validation\n",
    "    # ========================================\n",
    "\n",
    "    print(\"\")\n",
    "    print(\"Running Validation...\")\n",
    "\n",
    "    t0 = time.time()\n",
    "\n",
    "    model.eval()\n",
    "\n",
    "    total_eval_loss = 0\n",
    "    nb_eval_steps = 0\n",
    "\n",
    "    # Evaluate data for one epoch\n",
    "    for batch in validation_dataloader:\n",
    "\n",
    "        b_input_ids = batch[0].to(device)\n",
    "        b_labels = batch[0].to(device)\n",
    "        b_masks = batch[1].to(device)\n",
    "\n",
    "        with torch.no_grad():\n",
    "\n",
    "            outputs  = model(b_input_ids,\n",
    "#                            token_type_ids=None,\n",
    "                             attention_mask = b_masks,\n",
    "                            labels=b_labels)\n",
    "\n",
    "            loss = outputs[0]\n",
    "\n",
    "        batch_loss = loss.item()\n",
    "        total_eval_loss += batch_loss\n",
    "\n",
    "    avg_val_loss = total_eval_loss / len(validation_dataloader)\n",
    "\n",
    "    validation_time = format_time(time.time() - t0)\n",
    "\n",
    "    print(\"  Validation Loss: {0:.2f}\".format(avg_val_loss))\n",
    "    print(\"  Validation took: {:}\".format(validation_time))\n",
    "\n",
    "    # Record all statistics from this epoch.\n",
    "    training_stats.append(\n",
    "        {\n",
    "            'epoch': epoch_i + 1,\n",
    "            'Training Loss': avg_train_loss,\n",
    "            'Valid. Loss': avg_val_loss,\n",
    "            'Training Time': training_time,\n",
    "            'Validation Time': validation_time\n",
    "        }\n",
    "    )\n",
    "\n",
    "print(\"\")\n",
    "print(\"Training complete!\")\n",
    "print(\"Total training took {:} (h:mm:ss)\".format(format_time(time.time()-total_t0)))"
   ]
  },
  {
   "cell_type": "code",
   "execution_count": 39,
   "metadata": {
    "colab": {
     "base_uri": "https://localhost:8080/",
     "height": 532
    },
    "id": "cGKp0y2eI2or",
    "outputId": "0effc1da-5f5d-40a4-f181-613eacdc3c44"
   },
   "outputs": [],
   "source": [
    "def generate_multiple_text(prompt, number_of_iterations):\n",
    "    model.eval()\n",
    "    generated_text = \"\"\n",
    "    for _ in range(number_of_iterations):\n",
    "        print()\n",
    "        generated = torch.tensor(tokenizer.encode(prompt)).unsqueeze(0).to(device)\n",
    "        sample_outputs = model.generate(\n",
    "            generated,\n",
    "            do_sample=True,\n",
    "            top_k=50,\n",
    "            max_length=1000,\n",
    "            top_p=0.95,\n",
    "            num_return_sequences=1\n",
    "        )\n",
    "        # Get the generated text from the first sequence output\n",
    "        generated_text += tokenizer.decode(sample_outputs[0], skip_special_tokens=True)\n",
    "        prompt = generated_text[-100:]  # Update the prompt for the next iteration\n",
    "    return generated_text\n"
   ]
  },
  {
   "cell_type": "code",
   "execution_count": 41,
   "metadata": {},
   "outputs": [
    {
     "name": "stderr",
     "output_type": "stream",
     "text": [
      "The attention mask and the pad token id were not set. As a consequence, you may observe unexpected behavior. Please pass your input's `attention_mask` to obtain reliable results.\n",
      "Setting `pad_token_id` to `eos_token_id`:50256 for open-end generation.\n"
     ]
    },
    {
     "name": "stdout",
     "output_type": "stream",
     "text": [
      "\n"
     ]
    },
    {
     "name": "stderr",
     "output_type": "stream",
     "text": [
      "The attention mask and the pad token id were not set. As a consequence, you may observe unexpected behavior. Please pass your input's `attention_mask` to obtain reliable results.\n",
      "Setting `pad_token_id` to `eos_token_id`:50256 for open-end generation.\n"
     ]
    },
    {
     "name": "stdout",
     "output_type": "stream",
     "text": [
      "\n"
     ]
    },
    {
     "name": "stderr",
     "output_type": "stream",
     "text": [
      "The attention mask and the pad token id were not set. As a consequence, you may observe unexpected behavior. Please pass your input's `attention_mask` to obtain reliable results.\n",
      "Setting `pad_token_id` to `eos_token_id`:50256 for open-end generation.\n"
     ]
    },
    {
     "name": "stdout",
     "output_type": "stream",
     "text": [
      "\n"
     ]
    },
    {
     "name": "stderr",
     "output_type": "stream",
     "text": [
      "The attention mask and the pad token id were not set. As a consequence, you may observe unexpected behavior. Please pass your input's `attention_mask` to obtain reliable results.\n",
      "Setting `pad_token_id` to `eos_token_id`:50256 for open-end generation.\n"
     ]
    },
    {
     "name": "stdout",
     "output_type": "stream",
     "text": [
      "\n"
     ]
    },
    {
     "name": "stderr",
     "output_type": "stream",
     "text": [
      "The attention mask and the pad token id were not set. As a consequence, you may observe unexpected behavior. Please pass your input's `attention_mask` to obtain reliable results.\n",
      "Setting `pad_token_id` to `eos_token_id`:50256 for open-end generation.\n"
     ]
    },
    {
     "name": "stdout",
     "output_type": "stream",
     "text": [
      "\n"
     ]
    },
    {
     "name": "stderr",
     "output_type": "stream",
     "text": [
      "The attention mask and the pad token id were not set. As a consequence, you may observe unexpected behavior. Please pass your input's `attention_mask` to obtain reliable results.\n",
      "Setting `pad_token_id` to `eos_token_id`:50256 for open-end generation.\n"
     ]
    },
    {
     "name": "stdout",
     "output_type": "stream",
     "text": [
      "\n"
     ]
    },
    {
     "name": "stderr",
     "output_type": "stream",
     "text": [
      "The attention mask and the pad token id were not set. As a consequence, you may observe unexpected behavior. Please pass your input's `attention_mask` to obtain reliable results.\n",
      "Setting `pad_token_id` to `eos_token_id`:50256 for open-end generation.\n"
     ]
    },
    {
     "name": "stdout",
     "output_type": "stream",
     "text": [
      "\n"
     ]
    },
    {
     "name": "stderr",
     "output_type": "stream",
     "text": [
      "The attention mask and the pad token id were not set. As a consequence, you may observe unexpected behavior. Please pass your input's `attention_mask` to obtain reliable results.\n",
      "Setting `pad_token_id` to `eos_token_id`:50256 for open-end generation.\n"
     ]
    },
    {
     "name": "stdout",
     "output_type": "stream",
     "text": [
      "\n"
     ]
    },
    {
     "data": {
      "text/plain": [
       "\"Voldemort is Harry's friend. Even though he could see past his numb disbelief, he couldn't help it ; he felt as though he 'd lost one of his best friends. He had a stream of visitors, all intent on cheering him up. Hagrid sent him a bunch of earwiggy flowers that looked like yellow cabbages, and Ginny Weasley, blushing furiously, turned up with a get-well card she had made herself, which sang shrilly unless Harry kept it shut under his bowl of fruit. The Gryffindor team visited again on Sunday morning, this time accompanied by Wood, who told Harry ( in a hollow, dead sort of voice ) that he didn't blame him in the slightest. Ron and Hermione left Harry's bedside only at night- But nothing anyone said or did could make Harry feel any better, because they knew only half of what was troubling him. He hadn't told anyone about the Grim, not even Ron -and Hermione, because he knew Ron would panic and Hermione would scoff. The fact remained, however, that it had now appeared twice, and both appearances had been followed by near-fatal accidents ; the first time, he had nearly been run over by the Knight Bus ; the second, fallen fifty feet from his broomstick. Was the Grim going to haunt him until he actually died? Was he going to spend the rest of his life looking over his shoulder for the beast? And then there were the dementors. Harry felt sick and humiliated every time he thought of them. Everyone said the dementors were horrible, but no one else collapsed every time they went near one. No one else heard echoes in their head of their dying parents. Because Harry knew who that screaming voice belonged to now. He had heard her words, heard them over and over again during the night hours in the hospital wing while he lay awake, staring at the strips of moonlight on the ceiling. When the dementors approached him, he heard the last moments of his mother's life, her attempts to protect him, Harry, from Lord Voldemort, and Voldemort's laughter before he murdered her Harry dozed fitfully, sinking into dreams full of clammy, rotted hands and petrified pleading, jerking awake to dwell again on his mother's voice. It was a relief to return to the noise and bustle of the main school on Monday, where he was forced to think about other things, eve ', if he had to endure Draco Malfoys taunting. Malfoy was almost beside himself with glee at Gryffindor's defeat. He had finally taken off his bandages, and celebrated having the full use of both arms again by doing spirited imitations of Harry falling off his broom. Malfoy spent much of their next Potions class doing dementor imitations across the dungeon ; Ron finally cracked and flung a large, slippery crocodile heart at Malfoy, which hit him in the face and caused Snape to take fifty points from Gryffindor. If Snape's teaching Defense Against the Dark Arts again, I'm skiving off, said Ron as they headed toward Lupin's classroom after lunch. Check who's in there, Hermione. Hermione peered around the classroom door. It's okay! Professor Lupin was back at work. It certainly looked as though he had been ill. His old robes were hanging more loosely on him and there were dark shadows beneath his eyes ; nevertheless, he smiled at the class. Check who's in there, Hermione. Hermione peered around the classroom door. It's okay! Professor Lupin was back at work. It certainly looked as though he had been ill. His old robes were hanging more loosely on him and there were dark shadows beneath his eyes ; nevertheless, he smiled at the class. The class started again. Professor Lupin had been stirring the contents of his stomach. Malfoy's red hair was visible beneath his eyes ; he had rolled onto his back and stared hungrily into it. My Lord the Potters have made me their Secret-Keeper and then came another voice, laughing shrilly, the same laugh that Harry heard inside his head whenever the dementors drew near Harry. Master, you really don't need to go that far. Harry felt around the classroom door. Malfoy's face wasn't sunken and waxy, but handsome, full of laughter. Professor Lupin was smirking more broadly than ever. Seen your pal Hagrid lately? he asked them quietly. None of your business. They're here, Potter. What're you doing in the library? Library books are not to be taken outside the school, said Professor Lupin threateningly. You 'll be in for it this time, then? Harry didn't say anything. What's that you've got there, Potter? Malfoy didn't reappear time, then? Harry didn't say anything. What's that you've got there, Potter? Malfoy didn't reappear in classes until late on Thursday morning, when the Slytherins and Gryffindors were halfway through double Potions. He swaggered into the dungeon, his right arm covered in bandages and bound up in a sling, acting, in Harry's opinion, as though he were the heroic survivor of some dreadful battle. How is it, Draco? simpered Pansy Parkinson. Does it hurt much? Yeah, said Malfoy, putting on a brave sort of grimace. But Harry saw him wink at Crabbe and Goyle when Pansy had looked away. Settle down, settle down, said Professor Snape idly. Harry and Ron scowled at each other ; Snape wouldn't have said settle down if they 'd walked in late, he 'd have given them detention. But Malfoy had always been able to get away with anything in Snape's classes ; Snape was head of Slytherin House, and generality favored his own students above all others. They were making a new potion today, a Shrinking Solution. Malfoy set up his cauldron right next to Harry and Ron, so that they were preparing their ingredients on the same table. Sir, Malfoy called, sir, I 'll need help cutting up these daisy roots, because of my arm Weasley, cut up Malfoy's roots for him, said Snape without looking up. Ron went brick red. There's nothing wrong with your arm, he hissed at Malfoy. Malfoy smirked across the table. Weasley, you heard Professor Snape ; cut up these roots. Ron seized his knife, pulled Malfoy's roots toward him, and began to chop them roughly, so that they were all different sizes. Professor, drawled Malfoy, Weasley's mutilating my roots, sit. Snape approached their table, stared down his hooked nose at the roots, then gave Ron an unpleasant smile from beneath his long, greasy black hair. Change roots with Malfoy, Weasley. But, sit! Ron had spent the last quarter of an hour carefully shredding his own roots into exactly equal pieces. Now, said Snape in his most dangerous voice. Ron shoved his own beautifully cut roots across the table a, Malfoy, then took up the knife again. And, sir, I 'll need this shrivelfig skinned, said Malfoy, his voice full of malicious laughter. Potter, you can skin Malfoy's shrivelfig, said Snape, giving Harry the look of loathing he always reserved just for him. Harry took Malfoy's shrivelfig as Ron began trying to repair the damage to the roots he now had to use. Harry skinned the shrivelfig as fast as he could and flung it back across the table at Malfoy without speaking. Malfoy was smirking more broadly than ever. Seen your pal Hagrid lately? he asked them quietly. None of your business, said Ron jerkily, without looking up. I'm afraid he won't be a teacher much longer, said Malfoy in a tone of mock sorrow. Father's not very happy about my injury Keep talking, Malfoy, and I 'll give you a real injury, snarled Ron. he's complained to the school governors. And to the Ministry of Magic. Father's got a lot of influence, you know. And a lasting injury like this he gave a huge, fake sigh who knows if my arm 'll ever be the same again? So that's why you're putting it on, said Harry, accidentally beheading a dead caterpillar because his hand was shaking in anger. To try to get Hagrid fired. Well, said Malfoy, lowering his voice to a low, excited mutter. Father's got a lot of influence, you know. And a lasting injury like this he gave a huge, fake sigh who knows if my arm 'll ever be the same again? So that's why you're putting it on, said Harry, accidentally beheading a dead caterpillar because his hand was shaking in anger. To try to get Hagrid fired. Well, said Malfoy, lowering his voice to a low, excited mutter. Father's got a lot of influence, you know. And a lasting injury like this he gave a huge, fake sigh who knows if my arm 'll ever be the same again? So that's why you're putting it on, said Harry, accidentally beheading a dead caterpillar because his hand was shaking in anger. To try to get Hagrid fired. Well, said Malfoy, lowering his voice to a low, excited mutter. And a lasting injury like this he gave a huge, fake sigh who knows if my arm 'll ever be the same again? So that's why you're putting it ona huge, fake sigh who knows if my arm 'll ever be the same again? So that's why you're putting it on, said Hermione, rubbing her forehead. I suppose I just thought I 'd Are you insane? said Harry. He kept springing this question on her, hoping to startle her into a response by asking it when she least expected it. However, Hermione merely frowned and said, I'm not telling you, you 'll just make fun of me. You're joking, Weasley! said Malfoy, behind them. You're not telling me someone's asked that to the Dursleys? Not the Dursleys? Weasley He held up his arm and said, I've told the Dursleys that you're helping your old friend Black into the castle, Lupin. You're making a mistake, said Harry. You haven't heard everything I can explain Sirius is not here to kill Harry Two more for Azkaban tonight, said Ron, staring into the fierce, wild, shadowy face. I shall be interested to see how Dumbledore takes this He was quite convinced you were harmless, you know, Lupin a tame werewolf You fool, said Hermione coldly. Is a schoolboy grudge worth putting an innocent man back inside Azkaban? BANG! Thin, snakelike cords burst from the end of Snape's wand and twisted themselves around Lupin's mouth, wrists, and ankles ; he overbalanced and fell to the floor, unable to move. With a roar of rage, Black started toward Snape, but Snape pointed his wand straight between Black's eyes. Give me a reason, he whispered. Give me a reason to do it, and I swear I will. Black stopped dead. It would have been impossible to say which face showed more hatred. Harry stood there, paralyzed, not knowing what to do or whom to believe. He glanced around at Ron and Hermione. Ron looked just as confused as he did, still fighting to keep hold on the struggling Scabbers. Hermione, however, took an uncertain step toward Snape and said, in a very breathless voice, Professor Snape it it wouldn't hurt to hear what they've got to say, w would it? Miss Granger, you are already facing suspension from this school, Snape spat. You, Potter, and Weasley are out-of-bounds, in the company of a convicted murderer and a werewolf. For once in your life, hold your tongue. But if if there was a mistake KEEP QUIET, YOU STUPID GIRL! Snape shouted, looking suddenly quite deranged. DO N'T TALK ABOUT WHAT YOU DO N'T UNDERSTAND! A few sparks shot out of the end of his wand, which was still pointed at Black's face. Hermione fell silent. Vengeance is very sweet, Snape breathed at Black. How I hoped I would be the one to catch you The joke's on you again, Severus, Black snarled. As long as this boy brings his rat up to the castle he jerked his head at Ron I'll come quietly Up to the castle? said Snape silkily. I don't think we need to go that far. All I have to do is call the dementors once we get out of the castle He pressed his paw to the knot on the trunk, because the dementors are going to come bursting through the door at any moment. Lupin began to pace up and down before Black, but Snape pointed his wand straight between Black's eyes. Give me a reason, he whispered. Give me a reason to do it, and I swear I will. Black stopped dead. It would have been impossible to say which face showed more hatred. Harry stood there, paralyzed, not knowing what to do or whom to believe. He glanced around at Ron and Hermione. Ron looked just as confused as he did. Hermione fell silent. Vengeance is very sweet, Snape breathed at Black. How I hoped I would be the one to catch you The joke's on you again, Severus. Black stopped dead. It is very sweet, Snape breathed at Black. How I hoped I would be the one to catch you The joke's on you again, Severus. Black stopped dead. It is the same sort of love potion that imbues jealousy. You don't like each other. Harry, you don't like it. Everyone I know about it can't see it.... it's not strong, said Snape quickly. People say it hurts a lot, but I'm not telling you, you 'll just keep saying it.... it's not strong, you know... Hermione fell silent. Vengeance is very sweet, Snape breathed at Black. How I hoped I would be the one to catch you The joke's on yous very sweet, Snape breathed at Black. How I hoped I would be the one to catch you The joke's on you again, Severus, Black snarled. You're too nosy to live, Snape breathed at Black. Scurrying around the school on Halloween like that, for all I knew you 'd seen me coming to look at what was guarding the Stone. You let the troll in? Certainly. I have a special gift with trolls you must have seen what I did to the one in the chamber back there? Unfortunately, while everyone else was running around looking for it, Snape, who already suspected me, went straight to the third floor to head me off and not only did my troll fail to beat you to death, that three-headed dog didn't even manage to bite Snape's leg off properly. Now, wait quietly, Potter, and yourself are facing the three-headed dog. I want you to look after the Stone, all right? As soon as you find out who Nicolas Flamel is, I want to take his help if I can, said Snape idly. This class was an ideal cover for a private conversation, as everyone was having far too much fun to pay them any attention. Harry had been recounting his adventures of the previous night in whispered installments for the last half hour. Snape said Moodys searched his office as well? Ron whispered, his eyes alight with interest as he Banished a cushion with a sweep of his wand ( it soared into the air and knocked Parvati's hat off ). What... d'you reckon Moody's here to keep an eye on Snape as well as Karkaroff? Well, I dunno if that's what Dumbledore asked him to do, but he's definitely doing it, said Harry, waving his wand without paying much attention, so that his cushion did an odd sort of belly flop off the desk. Moody said Dumbledore only lets Snape stay here because he's giving him a second chance or something. What? said Ron, his eyes widening, his next cushion spinning high into the air, ricocheting off the chandelier, and dropping heavily onto Flamel's desk. Harry maybe Moody thinks Snape put your name in the Goblet of Fire! Oh Ron, said Hermione, shaking her head sceptically, we thought Snape was trying to kill Harry before, and it turned out he was saving Harry's life, remember? She Banished a cushion and it flew across the room and landed in the box they were all supposed to be aiming at. Harry looked at Hermione, thinking it was true that Snape had saved his life once, but the odd thing was, Snape definitely loathed him, just as he 'd loathed Harry s father when they had been at school together. Snape loved taking points from Harry, and had certainly never missed an opportunity to give him punishments, or even to suggest that he should be suspended from the school. I don't care what Moody says, Hermione went on. Dumbledore's not stupid. He was right to trust Hagrid and Professor Lupin, even though loads of people wouldn't have given them jobs, so why shouldn't he be right about Snape, even if Snape is a bit evil, said Ron promptly. Come on, Hermione, why are all these Dark wizard catchers searching his office, then? Why has Mr. Crouch been pretending to be ill? said Hermione, ignoring Ron. Its a bit funny, isn't it, that he cant manage to come to the Yule Ball, but he can get up here in the middle of the night when he wants to? You just don't like Crouch, do you? said Harry, waving his wand without paying much attention, so that his cushion did an odd sort of belly flop off the desk. Moody said Dumbledore's not stupid, said Harry. He was right to trust Hagrid and Professor Lupin, even though loads of people wouldn't have given them jobs, so why shouldn't he be right about Snape, even if Snape is a bit evil, said Ron promptly. Come on, Hermione, why are all these Dark wizard catchers searching his office, then? Why has Mr. Crouch been pretending to be ill? said Hermione, ignoring Ron. Its a bit funny, isn't it, that he cant manage to come to the Yule Ball, but he can get up here in the middle of the night when he wants to? You just don't like Crouch, do you? said Harry, waving his wand without paying much attention, so that his cushion did an odd sort of belly flop off the desk. Moody said Dumbledore's not ill, said Hermione. He was having real trouble stringing two words together, but that was when he seemed to know where he was, and know what heble stringing two words together, but that was when he seemed to know where he was, and know what he wanted to do. He just kept saying he had to see Dumbledore. Harry turned away from the window and stared up into the rafters. The many perches were half-empty ; every now and then, another owl would swoop in through one of the windows, returning from its night's hunting with a mouse in its beak. If Snape hadn't held me up, Harry might well have retired to the library. Hagrid seemed to be getting paler and thinner, and with a couple of surly wizards arguing over the latest article in Transfiguration Today, Harry headed straight to the third floor, where he found Ron and Hermione playing chess. Chess was the only thing Hermione ever lost at, something Harry and Ron thought was very good for her. Don't talk to me for a moment, said Ron when Harry sat down next to him, I need to concen He caught sight of Harry's face. What's the matter with you? You look terrible. Speaking quietly so that no one else would hear, Harry told the other two about Snape's sudden, sinister desire to be a Quidditch referee. Don't play, said Hermione at once. Say you're ill, said Ron. Pretend to break your word to Dumbledore, said Hermione. But he's only saying that because you're watching someone else. You know what? I've told the headmaster again and again that you're helping your old friend Black into the tournament, said Harry. What? He wanted to referee a Quidditch match? He couldn't be bothered. It was very lucky he picked tonight, you know, said Hermione coldly. I wouldn't have minded, said Ron. I know you're not going to the ball, said Hermione. But well think about it. Once my name's cleared if you wanted a a different home Some sort of explosion took place in the pit of Harry's stomach. What live with you? he said, accidentally cracking his head on a bit of rock protruding from the ceiling. Leave the Dursleys? Of course, I thought you wouldn't want to, said Ron. I understand, I just thought I 'd Are you insane? said Hermione, her voice easily as croaky as Black's. Of course I want to leave the Dursleys! Have you got a house? When can I move in? Black turned right around to look at him ; Snape's head was scraping the ceiling but Black didn't seem to care. You want to? he said. You mean it? Yeah, I mean it! said Harry. Black's gaunt face broke into the first true smile Harry had seen upon it. The difference it made was startling, as though a person ten years younger were shining through the starved mask ; for a moment, he was recognizable as the man who had laughed at Harry's parents'wedding. They did not speak again until they had reached the end of the lesson ; for a moment, they were both looking around at Harry, amazed at the knight's swordplay and heart. And what about it? a quest! The knight's sword was too long for him ; a particularly wild swing made him overbalance, and he landed facedown in the grass. Are you all right? said the other two. Don't play, said Hermione at once. Say you're ill, said Ron. Pretend to break your word to Dumbledore, don't you? Harry didn't answer. He was going to ask the knight if he could have it. But the question is, who did put it in? The dueling club at last turned him over to the Dursleys. He hadn't even got his sword out of his hand. He had to keep a tight hold on the sword, and the knight's rage seemed to vanish instantly. He clanked to his feet and shouted, Come follow me, dear friends, and we shall find our goal, or else shall perish brave enough. The joke's on you again, Severus! The knight's rage seemed to vanish instantly. He clanked to his feet and shouted, Come follow me, dear friends, and we shall find our goal Never before had he been able to catch sight of you. It was the only time he felt like this. He had never suffered nerves like these ; never, not even his last one, but his most vivid memories he had never suffered nerves like these. He had the same sort of numb disbelief he remembered seeing in his life ; he had the same sort of numbness and exhaustion he had never felt in all his life ; he couldn't remember ever being able to talk or feel anything but numb disbelief. He couldn't believe howuldn't remember ever being able to talk or feel anything but numb disbelief. He couldn't believe how happy he felt ; he had been through too much to take in any more. He had awoken from a vivid dream with his hands pressed over his face. The old scar on his forehead, which was shaped like a bolt of lightning, was burning beneath his fingers as though someone had just pressed a white-hot wire to his skin. He sat up, one hand still on his scar, the other hand reaching out in the darkness for his glasses, which were on the bedside table. He put them on and his bedroom came into clearer focus, lit by a faint, misty orange light that was filtering through the curtains from the street lamp outside the window. Harry ran his fingers over the scar again. It was still painful. He turned on the lamp beside him, scrambled out of bed, crossed the room, opened his wardrobe, and peered into the mirror on the inside of the door. A skinny boy of fourteen looked back at him, his bright green eyes puzzled under his untidy black hair. He examined the lightning-bolt scar of his reflection more closely. It looked normal, but it was still stinging. harry tried to recall what he had been dreaming about before he had awoken. It had seemed so real There had been two people he knew and one he didn't He concentrated hard, frowning, trying to remember The dim picture of a darkened room came to him There had been a snake on a hearth rug a small man called Peter, nicknamed Wormtail and a cold, high voice the voice of Lord Voldemort. Harry felt as though an ice cube had slipped down into his stomach at the very thought He closed his eyes tightly and tried to remember what Voldemort had looked like, but it was impossible All Harry knew was that at the moment when Voldemort's chair had swung around, and he, Harry, had seen what was sitting in it, he had felt a spasm of horror, which had awoken him or had that been the pain in his scar? And who had the old man been? For there had definitely been an old man ; Harry had watched him fall to the ground. It was all becoming confused. Harry put his face into his hands, blocking out his bedroom, trying to hold on to the picture of that dimly lit room, but it was like trying to keep water in his cupped hands ; the details were now trickling away as fast as he tried to hold on to them Voldemort and Wormtail had been talking about someone they had killed, though Harry could not remember the name and they had been plotting to kill someone else him! Harry took his face out of his hands, opened his eyes, and stared around his bedroom as though expecting to see something unusual there. As it happened, there was an extraordinary number of unusual things in this room. A large wooden trunk stood open at the foot of his bed, revealing a cauldron, broomstick, black robes, and assorted spellbooks. Rolls of parchment littered that part of his desk that was not taken up by the large, empty cage in which his snowy owl, Hedwig, usually perched. On the floor beside his bed a book lay open ; Harry had been reading it before he fell asleep last night. The pictures in this book were all moving. Men in bright orange robes were zooming in and out of sight on broomsticks, throwing a red ball to one another. Harry walked over to the book, picked it up, and watched on of the wizards score a spectacular goal by putting the ball through a fifty-foot-high hoop. Then he snapped the book shut. Even Quidditch in Harry's opinion, the best sport in the world couldn't distract him at the moment. He placed Flying with the Cannons on his bedside table, took off his robe and glasses and got into bed, making sure he had everything he needed, and the hangings were hiding him from view. The pictures in this book were all moving. Men in bright orange robes were zooming in and out of sight on broomsticks, throwing a red ball to one another. Harry walked over to the book, picked it up, and watched on of the wizards score a spectacular goal by putting the ball through a fifty-foot-high hoop. Then he snapped the book shut. Even Quidditch in Harry's opinion, the best sport in the world couldn't distract him at the moment. He placed Flying with the Cannons on his bedside table, took off his robe and glasses, and got into bed, making sure he had everything he needed, and the ball stayed where he was while the ball traveled around the room, bouncing along his broomstick. Even Quidditch in Harry's opinion, the best sport in the world couldn't distract him at the moment. He placed Flying with the Cannons on hisest sport in the world couldn't distract him at the moment. He placed Flying with the Cannons on his bed, drew the gun out of his pocket, and began to run in the opposite direction. Down one staircase, then another, along a new, corridor then he heard a cackling ahead. He had come back to the edge of the maze. He could see the stands rising above him, the shapes of hundreds and hundreds of tents, rising above him as he approached. They were drifting about in the darkness, tents, which rose in levels around the large stadium and situated exactly halfway between the golden goal posts. About a hundred thousand witches and wizards were taking their places in the seats, which rose in levels around the long oval field. Everything was suffused with a mysterious golden light, which seemed to come from the stadium itself. The field looked smooth as velvet from their lofty position. At either end of the field stood three goal hoops, fifty feet high ; right opposite them, almost at Harry's eye level, was a gigantic blackboard. Gold writing kept dashing across it as though an invisible giant's hand were scrawling upon the blackboard and then wiping it off again ; watching it, Harry saw that it was flashing advertisements across the field. The Bluebottle : A Broom for All the Family safe, reliable, and with Built-in Anti-Burgler Buzzer Mrs. Shower's All Purpose Magical Mess Remover : No Pain, No Stain! Gladrags Wizardwear London, Paris, Hogsmeade Harry tore his eyes away from the sign and looked over his shoulder to see who else was sharing the bed. So far it was Karkaroff, who shared a bed with Harry and Ron. They were looking around the Great Hall with glum expressions on their faces. Three of them were still clutching scarves and shawls around their heads. It's not that cold, said Hermione defensively. Why didn't they bring cloaks? Over here! Come and sit over here! Ron hissed. Over here! Hermione, budge up, make a space What? Too late, said Ron bitterly. Viktor Krum and his fellow Durmstrang students had settled themselves at the Slytherin table. Harry could see Malfoy, Crabbe, and Goyle looking very smug about this. As he watched, Malfoy bent forward to speak to Krum. Yeah, that's right, smarm up to him, Malfoy, said Ron scathingly. I bet Krum can see right through him, though... bet he gets people fawning over him all the time.... Where d'you reckon they're going to sleep? We could offer him a space in our dormitory, Harry... I wouldn't mind giving him my bed, I could kip on a camp bed. Hermione snorted. They look a lot happier than the Beauxbatons lot, said Harry. The Durmstrang students were pulling off their heavy furs and looking up at the starry black ceiling with expressions of interest ; a couple of them were picking up the golden plates and goblets and examining them, apparently impressed. Up at the staff table, Filch, the caretaker, was adding chairs. He was wearing his moldy old tailcoat in honor of the occasion. Harry was surprised to see that he added four chairs, two on either side of Dumbledore's. But there are only two extra people, Harry said. Why's Filch putting out four chairs, who else is coming? Eh? said Ron vaguely. He was still staring avidly at Krum. When all the students had entered the Hall and settled down at their House tables, the staff entered, filing up to the top table and taking their seats. The first person they saw who Harry felt was Draco Malfoy, who was standing beside Dumbledore's desk. Harry was surprised to see that he added four chairs, two on either side of Dumbledore's. But there are only two extra people, Harry said. Why's Filch putting out four chairs, who else is coming? Eh? said Ron vaguely. He was still staring avidly at Krum. When all the students had entered the Hall and settled down at their House tables, the staff entered, filing up to the top table and taking their seats. The only person missing was Hermione. Been in the Library. Harry guessed that this was because she had been looking for Hedwig, because Hedwig was in a rather tetchy mood. When she heard the scratching of his foot on the floor, he turned his head to look at them. Seems she 'd rather hate him, muttered Harry. Well, that's how I always thought that, said Hermione. But then there's this draft I woke up and one side of the hangings on my bed hadhat, said Hermione. But then there's this draft I woke up and one side of the hangings on my bed had been pulled down I rolled over and I saw him standing over me like a skeleton, with loads of filthy hair holding this great long knife, must've been twelve inches and he looked at me, and I looked at him, and then I yelled, and he scampered. Why, though? said Harry. He hadn't heard me out, so why had nobody ever told him? Dumbledore, Hagrid, Mr. Weasley, Cornelius Fudge why hadn't anyone ever mentioned the fact that Harry's parents had died because their best friend had betrayed them? Ron and Herinione watched Harry nervously all through dintier, not daring to talk about what they 'd overheard, because Percy was sitting close by them. When they went upstairs to the crowded common room, it was to find Fred and George had set off half a dozen Dungbombs in a fit of end- of-term high spirits. Harry, who didn't want Fred and George asking him whether he 'd reached Hogsmeade or not, sneaked quietly up to the empty dormitory and headed straight for his bedside cabinet. He pushed his books aside and quickly found what he was looking for the leather-bound photo album Hagrid had given him two years ago, which was full of wizard pictures of his mother and father. He sat down on his bed, drew the hangings around him, and started turning the pages, searching, until He stopped on a picture of his parents'wedding day. There was his father waving up at him, beaming, the untidy black hair Harry had inherited standing up in all directions. There was his mother, alight with happiness, arm in arm with his dad. And there that must be him. Their best man Harry had never given him a thought before. If he hadn't known it was the same person, he would never have guessed it was Black in this old photograph. His face wasn't sunken and waxy, but handsome, full of laughter. Had he already been working for Voldemort when this picture had been taken? Was he already planning the deaths of the two people next to him? Did he realize he was facing twelve years in Azkaban, twelve years that would make him unrecognizable? But the dementors don't affect him, Harry thought, staring into the handsome, laughing face. He doesn't have to hear my Min screaming if they get too close Harry slammed the album shut, reached over and stuffed it back into his cabinet, took off his robe and glasses and got into bed, making sure the hangings were hiding him from view. The dormitory door opened. Harry? said Ron's voice uncertainly. But Harry still, pretending to be asleep. He heard Ron leave again, and rolled over on his back, his eyes wide open. A hatred such as he had never known before was coursing through Harry like poison. He could see Black laughing at him through the darkness, as though somebody had pasted the picture from the album over his eyes. He watched, as though somebody was playing him a piece of film, Sirius Black blasting Peter Pettigrew ( who resembled Neville Longbottom ) into a thousand pieces. He could hear ( though having no idea what Black's voice might sound like ) a low, excited mutter. It has happened, My Lord the Potters have made me their Secret-Keeper and then came another voice, laughing shrilly, the same laugh that Harry heard inside his head whenever the dementors drew near Harry, you you look terrible. Harry hadn't gotten to sleep until daybreak. He had awoken to find the dormitory deserted, dressed, and gone down the spiral staircase to the crowded common room. The dormitory door opened. Harry? said Ron's voice uncertainly. But Harry still, pretending to be asleep. He heard Ron leave again, and rolled over on his back, his eyes wide open. A hatred such as he had never known before was coursing through Harry like poison. He could see Black laughing at him through the darkness, as though somebody had pasted the picture from the album over his eyes. He watched, as though somebody was playing him a piece of film, Sirius Black blasting Peter Pettigrew ( who resembled Neville Longbottom ) into a thousand pieces. He could hear ( though having no idea what Black's voice might sound like ) a low, excited mutter. It has happened, My Lord the Potters have made me their Secret-Keeper and then came another voice, laughing shrilly, the same laugh that Harry heard inside his head whenever the dementors drew near Harry, you you look terrible. Harry hadn't gotten to sleep until daybreak. He had awoken to find the dormitory deserted, dressed\""
      ]
     },
     "execution_count": 41,
     "metadata": {},
     "output_type": "execute_result"
    }
   ],
   "source": [
    "# Example of prompt\n",
    "prompt = \"Voldemort is Harry\"\n",
    "generated_text = generate_multiple_text(prompt, number_of_iterations=8)  # Change the number as needed\n",
    "generated_text"
   ]
  },
  {
   "cell_type": "code",
   "execution_count": 44,
   "metadata": {},
   "outputs": [
    {
     "name": "stdout",
     "output_type": "stream",
     "text": [
      "76\n"
     ]
    }
   ],
   "source": [
    "print(len(docs))"
   ]
  },
  {
   "cell_type": "code",
   "execution_count": null,
   "metadata": {
    "scrolled": true
   },
   "outputs": [],
   "source": [
    "generated_text"
   ]
  },
  {
   "cell_type": "code",
   "execution_count": null,
   "metadata": {},
   "outputs": [],
   "source": [
    "print(docs)"
   ]
  },
  {
   "cell_type": "code",
   "execution_count": 51,
   "metadata": {},
   "outputs": [],
   "source": [
    "from gensim.models import Word2Vec\n",
    "from gensim.models import KeyedVectors\n",
    "from gensim.scripts.glove2word2vec import glove2word2vec\n",
    "from collections import Counter"
   ]
  },
  {
   "cell_type": "code",
   "execution_count": 77,
   "metadata": {},
   "outputs": [],
   "source": [
    "docs1 = [nltk.word_tokenize(doc) for doc in docs]"
   ]
  },
  {
   "cell_type": "code",
   "execution_count": 86,
   "metadata": {},
   "outputs": [],
   "source": [
    "flattened_list = [item for chapter in docs1 for item in chapter]"
   ]
  },
  {
   "cell_type": "code",
   "execution_count": 94,
   "metadata": {},
   "outputs": [
    {
     "name": "stderr",
     "output_type": "stream",
     "text": [
      "/scratch/3107329.1.academic-gpu/ipykernel_309486/990905266.py:3: DeprecationWarning: Call to deprecated `glove2word2vec` (KeyedVectors.load_word2vec_format(.., binary=False, no_header=True) loads GLoVE text vectors.).\n",
      "  glove2word2vec(glove_input_file, word2vec_output_file)\n"
     ]
    },
    {
     "data": {
      "text/plain": [
       "(400000, 200)"
      ]
     },
     "execution_count": 94,
     "metadata": {},
     "output_type": "execute_result"
    }
   ],
   "source": [
    "glove_input_file = '/projectnb/cs505ws/students/kyan/glove.6B.200d.txt'\n",
    "word2vec_output_file = 'glove.6B.200d.txt.word2vec'\n",
    "glove2word2vec(glove_input_file, word2vec_output_file)"
   ]
  },
  {
   "cell_type": "code",
   "execution_count": 95,
   "metadata": {},
   "outputs": [],
   "source": [
    "filename = 'glove.6B.200d.txt.word2vec'\n",
    "model = KeyedVectors.load_word2vec_format(filename, binary=False)"
   ]
  },
  {
   "cell_type": "code",
   "execution_count": 102,
   "metadata": {},
   "outputs": [],
   "source": [
    "sorted_vocab = sorted(list(set(flattened_list)))"
   ]
  },
  {
   "cell_type": "code",
   "execution_count": 103,
   "metadata": {},
   "outputs": [],
   "source": [
    "# Create Vocabulary and Word Vectors\n",
    "word_to_idx = {}\n",
    "idx_to_word = {}\n",
    "for i,token in enumerate(sorted_vocab):\n",
    "    if token not in word_to_idx:\n",
    "        word_to_idx[token] = i\n",
    "        idx_to_word[i] = token"
   ]
  },
  {
   "cell_type": "code",
   "execution_count": null,
   "metadata": {},
   "outputs": [],
   "source": [
    "#vocabulary size\n",
    "V = len(word_to_idx) + 1\n",
    "print(\"Vocabulary size:\", V)\n",
    "print(f'There are {len(sorted_vocab)} characters in the text.')\n",
    "print(f'Character set: {sorted_vocab}.')"
   ]
  },
  {
   "cell_type": "code",
   "execution_count": 104,
   "metadata": {},
   "outputs": [
    {
     "name": "stdout",
     "output_type": "stream",
     "text": [
      "(16594, 200)\n"
     ]
    }
   ],
   "source": [
    "embedding_dim = 200\n",
    "embedding_matrix = np.zeros((V,embedding_dim))\n",
    "for word, i in word_to_idx.items():\n",
    "    if word in model:\n",
    "        embedding_matrix[i] = model[word]\n",
    "    else:\n",
    "        embedding_matrix[i] = np.random.rand(200)\n",
    "        \n",
    "print(embedding_matrix.shape)"
   ]
  },
  {
   "cell_type": "code",
   "execution_count": null,
   "metadata": {},
   "outputs": [],
   "source": [
    "print(word_to_idx)\n"
   ]
  },
  {
   "cell_type": "code",
   "execution_count": null,
   "metadata": {},
   "outputs": [],
   "source": [
    "print(idx_to_word)"
   ]
  },
  {
   "cell_type": "code",
   "execution_count": null,
   "metadata": {},
   "outputs": [],
   "source": [
    "encoded_sequences = [word_to_idx[word] for word in flattened_list]\n",
    "print(len(encoded_sequences),encoded_sequences)\n",
    "# Convert embedding_matrix to torch tensor\n",
    "embedding_matrix = torch.tensor(embedding_matrix, dtype=torch.float32)\n",
    "print(embedding_matrix,embedding_matrix.shape)"
   ]
  },
  {
   "cell_type": "code",
   "execution_count": 109,
   "metadata": {},
   "outputs": [],
   "source": [
    "class LSTMDataset(Dataset):\n",
    "    def __init__(self, encoded_sequences, sequence_length):\n",
    "        self.sequences = encoded_sequences\n",
    "        self.sequence_length = sequence_length\n",
    "\n",
    "    def __len__(self):\n",
    "        return len(self.sequences) - self.sequence_length\n",
    "\n",
    "    def __getitem__(self, idx):\n",
    "        # Get a sequence of tokens and the token next to it as the target\n",
    "        input_seq = self.sequences[idx:idx + self.sequence_length]\n",
    "        target = self.sequences[idx + self.sequence_length]\n",
    "        return torch.tensor(input_seq), torch.tensor(target)"
   ]
  },
  {
   "cell_type": "code",
   "execution_count": 110,
   "metadata": {},
   "outputs": [],
   "source": [
    "# Create an instance of LSTMDataset with a max sample length of 50\n",
    "sample_length = 50\n",
    "lstm_dataset = LSTMDataset(encoded_sequences, sample_length)"
   ]
  },
  {
   "cell_type": "code",
   "execution_count": 111,
   "metadata": {},
   "outputs": [],
   "source": [
    "class LSTMModel(nn.Module):\n",
    "    def __init__(self, vocab_size, embedding_dim,hidden_dim,embedding_matrix):\n",
    "        super(LSTMModel,self).__init__()\n",
    "        self.embedding = nn.Embedding.from_pretrained(embedding_matrix, freeze=False)\n",
    "        self.lstm = nn.LSTM(embedding_dim,hidden_dim,batch_first=True)\n",
    "        self.fc = nn.Linear(hidden_dim,vocab_size)\n",
    "    def forward(self,x):\n",
    "        embedded = self.embedding(x)\n",
    "        lstm_out, _ = self.lstm(embedded)\n",
    "        output = self.fc(lstm_out[:, -1, :])\n",
    "        return output"
   ]
  },
  {
   "cell_type": "code",
   "execution_count": 112,
   "metadata": {},
   "outputs": [
    {
     "name": "stdout",
     "output_type": "stream",
     "text": [
      "LSTMModel(\n",
      "  (embedding): Embedding(16594, 200)\n",
      "  (lstm): LSTM(200, 256, batch_first=True)\n",
      "  (fc): Linear(in_features=256, out_features=16594, bias=True)\n",
      ")\n",
      "Tesla V100-SXM2-16GB\n",
      "GPU is available\n"
     ]
    }
   ],
   "source": [
    "embedding_dim = 200\n",
    "hidden_dim = 256\n",
    "batch_size = 64\n",
    "lstm_loader = DataLoader(lstm_dataset, batch_size=batch_size, shuffle=True)\n",
    "model = LSTMModel(V,embedding_dim,hidden_dim,embedding_matrix)\n",
    "\n",
    "print(model)\n",
    "print(torch.cuda.get_device_name(0))\n",
    "model = model.double().to(device)\n",
    "if torch.cuda.is_available():\n",
    "    device = torch.device(\"cuda\")\n",
    "    print(\"GPU is available\")\n",
    "else:\n",
    "    device = torch.device(\"cpu\")\n",
    "    print(\"GPU not available, CPU used\")\n",
    "# Define Loss, Optimizer\n",
    "loss_fn = nn.CrossEntropyLoss()\n",
    "optimizer = torch.optim.Adam(model.parameters(), lr=0.001)\n",
    "num_epochs = 0"
   ]
  },
  {
   "cell_type": "code",
   "execution_count": 113,
   "metadata": {},
   "outputs": [
    {
     "name": "stderr",
     "output_type": "stream",
     "text": [
      "100%|██████████| 100/100 [1:33:10<00:00, 55.90s/it]\n"
     ]
    },
    {
     "name": "stdout",
     "output_type": "stream",
     "text": [
      "Finished Training\n"
     ]
    },
    {
     "data": {
      "image/png": "[encoded data removed]",
      "text/plain": [
       "<Figure size 640x480 with 1 Axes>"
      ]
     },
     "metadata": {},
     "output_type": "display_data"
    }
   ],
   "source": [
    "# Training loop\n",
    "losses = []\n",
    "num_epochs = 100  # Define the number of epochs\n",
    "for epoch in tqdm(range(num_epochs)):\n",
    "    running_loss = 0.0\n",
    "    for data in (lstm_loader):\n",
    "        inputs, targets = data\n",
    "        inputs, targets = inputs.to(device), targets.to(device)\n",
    "\n",
    "        # Zero the parameter gradients\n",
    "        optimizer.zero_grad()\n",
    "\n",
    "        # Forward + backward + optimize\n",
    "        outputs = model(inputs)\n",
    "        loss = loss_fn(outputs, targets)\n",
    "        loss.backward()\n",
    "        optimizer.step()\n",
    "    losses.append(loss.item())\n",
    "plt.title('Loss')\n",
    "plt.plot(losses)\n",
    "print('Finished Training')"
   ]
  },
  {
   "cell_type": "code",
   "execution_count": 115,
   "metadata": {},
   "outputs": [
    {
     "name": "stderr",
     "output_type": "stream",
     "text": [
      "100%|██████████| 7005/7005 [00:22<00:00, 304.78it/s]"
     ]
    },
    {
     "name": "stdout",
     "output_type": "stream",
     "text": [
      "Accuracy on the training set: 49.90%\n"
     ]
    },
    {
     "name": "stderr",
     "output_type": "stream",
     "text": [
      "\n"
     ]
    }
   ],
   "source": [
    "correct = 0\n",
    "total = 0\n",
    "model.eval()\n",
    "with torch.no_grad():\n",
    "    for data in tqdm(lstm_loader):\n",
    "        inputs, targets = data\n",
    "        inputs, targets = inputs.to(device), targets.to(device)\n",
    "        outputs = model(inputs)\n",
    "        _, predicted = torch.max(outputs.data, 1)  # Get the index of the highest probability class\n",
    "        total += targets.size(0)\n",
    "        correct += (predicted == targets).sum().item()\n",
    "\n",
    "accuracy = 100 * correct / total\n",
    "print(f'Accuracy on the training set: {accuracy:.2f}%')\n"
   ]
  },
  {
   "cell_type": "code",
   "execution_count": 117,
   "metadata": {},
   "outputs": [],
   "source": [
    "def generate_sentence(model,prompt,word_to_idx,idx_to_word,max_length=50,temperature=1.0,length=5000):\n",
    "    model.eval()\n",
    "    i=0\n",
    "    with torch.no_grad():\n",
    "        current_text = prompt.split()\n",
    "        while i < 5000:\n",
    "            input_indices = [word_to_idx[word] for word in current_text]\n",
    "            input_tensor = torch.tensor(input_indices).unsqueeze(0).to(device)\n",
    "            predictions = model(input_tensor)\n",
    "            probabilities = torch.softmax(predictions[0,:]/temperature,dim=-1)\n",
    "            #Sample a word based on the probabilities\n",
    "            next_word_idx = torch.multinomial(probabilities,1).item()\n",
    "            next_word = idx_to_word[next_word_idx]\n",
    "            i += 1\n",
    "            \n",
    "            current_text.append(next_word)\n",
    "        # current_text.append(\".\")    \n",
    "        generated_sentence = ' '.join(current_text)\n",
    "        return generated_sentence"
   ]
  },
  {
   "cell_type": "code",
   "execution_count": null,
   "metadata": {},
   "outputs": [],
   "source": [
    "seed_text  = 'Harry Potter'\n",
    "gen_sentence = generate_sentence(model,seed_text,word_to_idx,idx_to_word)\n",
    "print(gen_sentence,(len(gen_sentence.split())))"
   ]
  },
  {
   "cell_type": "code",
   "execution_count": 125,
   "metadata": {},
   "outputs": [
    {
     "data": {
      "text/plain": [
       "\"Harry Potter heap upright though they were standing behind her collar , staring down at the swirling white mist before Ludo Bagman in the doorway . Amos Diggory , what 's fingers ? The other two clunking bottle into fireworks Mmm ! said Ron as she spotted Harry 's trolley and put his broom out of the way , staring at his watch . From what I had the right person in here he 'd just swallowed a couple of hours ? It 's very easy , had grown at birthday morning and try . Hagrid was right Ron . He was looking at Harry , Ron , and Hermione 's sounded shrill voice echoing across his head . Mom , now , please . Ha haaa and Told us only when Slytherin is a little time for Christmas ! I did n't give it , said Harry . at all they 'd emerged looking up to the kitchens . Harry 's eyes filled with tears a sudden burst out of its wits . It 's the best if we ever had been his face He stole livid tonight . This is one of the dog ! Quirrell 's , he said in a muffled squeak . No one , said Lupin . Our examination of the castle is they 've done ages into any more . Oh , that 's not true ? said Harry breathlessly . They 'd like to see you ! Ron said angrily , pointing at him , but I think Hagrid did n't people he was . It took Neville , Harry , come on , I 'll have to speak , said Ron , but Ron pulled back the front steps onto the spiral staircase to their room , still went out of the tent , and together he had done it , said Harry . At the way you only got inside here . I do n't know the Stone if he 's got it before . That 's what Hagrid might move , please Sirius Lupin and Ron heaved a shining deep mud then a nasty grin on top of a large ginger cushion , his ripped robes off out of his cloak . Moody was wearing her robes out of his pocket ; he had been held in his bedroom . The horrible night was abruptly ; he was flying out . He was hanging on to the ground , and there , which high to Hogwarts , he was able to hold through his favorite room alone what was in . He looked turned out at odd angles back down , and saw that Harry looked instead . For Harry , Madame Maxime position not looking at . It was time to find her lamp into darkness . It was only a fault in the last moments time and Harry got to his feet , smiling , and over every single notice of side of the coming to the front door , glinting in the firelight . THREE THE KNIGHT BUS was a steep in his stomach , deep , was Eleven inches . Pliable . A a dot ? she whispered , and she sprinted from the chair next to Mr. Crouch . Is this a lot to use allowed to go into your bathroom , Professor ? Snape called Professor Lupin , with a slight sneer . She er standing up and dear boy has an old boy . Let 's do that you were sitting on famous in a bit late , said Sirius , taking out of his gamekeeper duties , . We were safe alongside it ! said Ron excitedly . It 's my return to pretended , said Professor McGonagall . Snape , you caught a bath , Potter . He 's right . . . said Harry , give some amazing things . He was back in bed again . He 's been getting all dropped I 've never heard again ! No , not more As the rules . He actually said he lies Potter . That was a normal mirror 's er reminded a word , Hermione asked . At last Harry was Thursday of his free about him , Sirius found his son Fred ? Harry said as he managed to say something enough he banged his throat completely on his fingers he beat the class . He was still clutching his finger . It 's all right , he said softly . I opened him . before him it wrong . But I came no to Azkaban . Good , said Black . Potter ! Voldemort said flatly . You had look much mistaking him But Snape would be coming to him , because each of them moved away from court by Professor Dumbledore . Harry Potter did indeed draw to investigate . Harry went quiet to Madam Pomfrey to enjoy the pile of books of their lives as gleeful as though he did n't want Charlie to find out their name . It 's Harry Potter and Weasley , he added to Ron and Ron and Fred looked excited . under this at their House , and at Hogwarts . They were all grinning away lately , smiling , that stuff and they made their uses , said my hats in salute to a long list of golden descending in their direction for the class in a shower of red velvet curtains ; she seized the Quaffle next to her knees , then darted past the tent , which was concealed behind a large layer of tiny , twittering birds hanging . Hedwig was hurriedly a foot from behind the first study . Something had picked up her money bag . Ron looked carefully at once , at least three days , at the moment . Hermione 's note smashed up into the air , which was fast asleep and grabbed Ron as the Knight Bus Mrs. Weasley floated , mud hit . Ron , long- tables , bouncing out the nervous and strode near it with Ron . Harry , Ron , and Ginny went through the dark platform without taking talking and louder than usual . Merry Christmas ! Penalty to five to Madam Pomfrey , and walked off . Fred , George Weasley said , coming to a halt . Weasley ! said Neville , grabbing twinkling with his eyes look more closely upon all of them all we . Keep your brooms , the others Veela ! Yes , I 've heard , see where you belong . Something stood , they had much more money than her sleep , and when they reached their familiar horrible pair of white Beauxbatons suddenly out of sight and came in to him and was the Great Hall . This Ron , Fred , and Ginny stood together in cheery enough . Quick Harry did forty ha , said Lee Jordan as they looked at each other around things that Percy was there by empty . Probably smoothed spirits at Hogwarts , and not being Stunned Gryffindor in Romania . Tom 's mood with the whole school year ? Ron blurted out . Hagrid 's beetle-black eyes at Hermione and Fred , and George had never used to present this as they normally properly , could remember them they went face-to-face : he dare feel slightly nervous , but the secret of food and he would n't have been having to stand next to me the whole hour . So that the Durmstrang students were speeding toward it across the lake , and only four people beds and shook , but it was only thin and silent and noises that the dragons were all three on its feet . Parvati had never heard them enormous erected yeah , then he started to tell an enormous amber greasy clouds of rain . They had n't jumped her cover legs from Professor Trelawney 's classroom , wearing canary-yellow robes . Three who Uncle Vernon had hoped that there was no sign of all ; Harry 's O.W.L.s were deep a model . It seemed of a joke shop work on the Ministry of Magic , they were saying their owls , she had you really moved . A years had laughed Ron into the woods , well , and Madam Malkin was behind one evening , and Harry looked up and saw that large , judging silver , but was lucky Harry had given him an owl for what about Fluffy . That 's exactly he fell until he 'd be handed on in the letter again . He merely said , or Gobstones , the Slytherin team would be only All right now . There were a lucky for them All . Bill was no means never seen on Gryffindor for a brief period during the first journey for the Gringotts . But Rita Skeeter 's seeing him last time when Hedwig awoke , Harry will think was better for anything to Bagman , Charlie thought when she reached the tents and join in Diagon Alley , Weasley agreed and they were starting to giggle . They did n't seem to notice , as Harry let out a kind of increasing and Errol . It was common knowledge around through the dance ; then went down and found Ron full recovery ( the late of the castle just once ) that Harry , Ron , and , Seamus , and Hermione . He pulled on his card and gave his broom and carrying the first every page of The Monster Book of Monsters Office for nearly fewer ; he Levski the Ireland would let you around the Quaffle that looks as good as a friendly competition ; Harry 's broom moved toward them and cornered them so near the castle grounds . This was not a silence in silence . Dumbledore , however , remained where they were all covered . While these owls seek speak the silence , getting fewer and fewer , glittering objects was now that a whole street put enough move to the police come to one another . Moody jerked toward the door , but a few people gripping the door and looked themselves around all the students into the room . Frank shared seemed to be too What if only one student would have done it . Everyone was looking at the Dursleys , because McGonagall had put them off with their sudden blast about him , and its book had become rather than there . It 's just lucky he was very lucky with the Weasleys , George . Harry went back to the door of the wall as Mrs. Weasley held up the loose floorboard , and Bill and wizards in the middle of the flames . There was no sign of breaking death ; Harry saw Cho Chang and the horses , most of the Slytherin team set before ; when he shook ; they could hear galloping back into their boat , and Harry read up a boat , which seemed to be it so badly ; any case of them were standing up a corridor and floor . . . . Harry dived to it instead , lifting his slow move quickly , unsupported , right , broomstick . So we 'll be eleven , said Hermione matter-of-factly , . Just take us some time before , said Ron . But we 'll be back You 'll be coming after nearly Go ! An extremely busy of mouth at the sea Harry patted the egg in a strange change , and next door to his memory of Magic notes Professor Dumbledore had run . . . . nearly one hand , pretending . . . . You had n't . D'you know what the way you do , get yourself back to the castle . Yeah , we 'll both We 'll take it down . And once they 've had enough . This is the point in it ! said Bagman in the back . 'Bye then ! said a tiny pop , and said , Come on , I 've just finished breakfast , and people were saying a word . And Harry noticed that Horntail did n't go . Where you do ? said George impatiently . I 'm okay ! said Hagrid , looking uncertainly up at Scabbers . Crookshanks was furious with Buckbeak 's beetle-black eyes looks upon him as though Hagrid was trying Harry to ask any sign of the Snitch . They watched him in the corridors , masked . Perhaps brooms , or , they did n't have a single table , he 'd lost control . At last before the summer holidays , girls were starting to compete in there might be allowed , and happy themselves ) , had watched to Ron 's letter and shouted something at these last owls . Harry heard inside the cabin one , Bill pulled ; it looked deeper and deeper into the tiny black pub . Something of bright brown was drawing steadily louder the stands could just a field bun ; then a quarter to screwed up with him again ; then , quite clearly , Macnair , said a voice . Fleur just keeps laughing and it 's a minute 's smile . Its held rose only enough to impress upon the very guarding the crowd through number four people to worry about The one of a dog . It was a very beautiful , circular room with protective of blood , all the silence like seem to be thick , strangely . A shrill , tint , and whistling was filling up of grass . Every two heads of them kept bowing and curtsying , as squinting at the Firebolt . Her eye quivered in excitement . Even Fred and George in crimson Quidditch stadium , now . Wood did n't catch any more objects hovering inside the water . The match were sliding sternlooking stadium , his eyes seemed to be watching him loudly . Harry privately agreed as best people Krum had gone from now that a foul wind and then , they kept pressed their wings darkly and excitedly . 'Ow come that missed the egg too soon , he said , it would be an advantage for the Snitch in the horses ' coming back only if someone kept bumping . Fred and George had been carrying their trunks with books . It was Hermione in , her full barrier . Want to talk to ? Nothing ! said Ron finally . This is no ! said Ron . All right you , Malfoy , Harry muttered as he shouted and looking wildly around so it was too as to use some comfort . Harry , Ron , come ! he said , looking up to walked forward toward him , so that could Harry moved away ! Hermione said sharply , her stared furiously , and Professor McGonagall left the successful . They gave him an excuse to stand Buckbeak ; he edged more quickly , let me speak to him , Professor Moody , who growled , not doing it . Crabbe , a ' I ca n't go . Harry stared . Really upset out she 's and he was goin ' down ter his goblet ! Harry shouted at him . Ron looked carefully suddenly turning of rope to being unseated back . Hagrid leaned on the windowsill , having come for the old charm , which had n't bothered ; he had , at the same time , having a second one year , and Harry felt enough to speak to everyone else He was forbidden to all sorts out of trouble with him . Binns droned on on end , then an enormous advantage and lower , chattering , along a table with wind , now brightly colored volumes . The rain became between them Harry had never seen any other . Harry 's eyes had seem at all . He said it , whether waving outfitters gold he turned up the down on Harry 's knee and sank down on his knees , prodded the open egg in long , and opened it , ducked under the lid of his head , hooting incessantly . He wondered for the executioner , must really miss it . Yeah , we said , in case any spell should see where he 's come to get near us . It worked fairly well ; Harry could n't breathe fire ; Dumbledore caught Harry 's eye just like a cup , or Fang , said Lupin , waving his glasses . Right then we finally play times as a pet , said Hermione . Yeah , well there was I want to go through there 's the 's stuff like he 's he found out ! snarled Mrs. Weasley . I 've had an idea , Harry said , looking back . It 's even big enough to speak to him in cool when you know , and I 've told , you 'll see you . Or have they got all down , even a girls with eating . Harry heard something like a dog but Ron knew ; Hermione had heard Angelina about a few things . They heard someone but Hermione left the hospital wing . Go away from Hagrid , right , there was only fun much .. . . Bill , three boys , Ron , and Hermione had lost her holidays . Hedwig 's got a lot better on top of The field . Do n't worry , Ginny , said Hermione in a long kitchen , dusty hangings . What 's the matter if you had sent Hedwig , and I 'm your autograph if you , said Ron , pointing , at them . With a while ! Professor McGonagall said Malfoy , you ca n't help him in their midst out of the way . Getting the trouble , Harry told Ron and Hermione . I 've got a week to send each other from your common room far in the next morning of something , to stop him . Drop it , and Harry gave Percy , Ron quickly . I must have to do the Durmstrang ship . You do n't have to do the usual feast . I managed to sleep . Sirius Who 's special ? Ron asked . Dad that 's got a new door to the window to get out of school better than the Snitch yet ! Harry said , pounding rattling butterbeer in his muffled furrowed . Hagrid 's face was n't a question . How can they bring me ? Ca n't you beautiful in leprechaun gold , it was . This evening after Harry had seen Mr. Ollivander 's best Patronus to get into dry clothes . Hermione cast around for tripping over the Ravenclaw table and the Durmstrang ship . He gathered his tiny eyes stare unblinkingly upon the chamber with a jolt , more neck , he had to eat ; others were wrapped in thick blankets the powder away , it was empty except for hushed voices called , but only miserably , Crookshanks leapt lightly onto the neck of the hall and Harry sat down , followed that by Hagrid 's old person who broke into Hagrid 's fire , when Harry saw the shining black outline of the black dog . Something about the other two fingers , as a second one hand . Then that mean it was , it thought , would Cedric , as Harry approached the table . He was so large as a gap in shock , a nasty pang that he followed him back through the windows . He looked up shook his head . You know how to do with it did , he said , and he recognized them as the gnome . Barely ten few seconds before there , Harry saw speak to the windows . . . . The feast started edging loudly . I agreed with question , even to get near us Macnair . . . ! It was harder to feel hundreds of them , and Karkaroff 's face contorted red and helped him over the tree , came into the forest and clear example , seeing their heads of stone steps . There were a dozen of a pet dragon , merpeople sparks do to reach . Thank you , you d another flutter . You heard them your luggage , are n't we ? Ravenclaw 'll be able to work up until practice . Harry , Ron muttered to Hermione , through Fred and George , who was now so tight Harry . Madam Pomfrey think Hermione always was a lot since Professor Flitwick , and said flatly . Just stay there where he 's got the hat off that Draco Malfoy 's using something for keeping everyone else under the school young , to Apparate , and along the school to task , but as I ask someone to do the fourth match , Great , said Ron gleefully , as though this was n't the two . They crept through their poking already away . This was n't fun at the Daily Prophet it , said Hermione , when we have to King 's . She 's still sticking up , but they did n't tell her . Mrs. Weasley nodded . They were wondering angrily about the first Quidditch match in which they usually wore of some stupid little but she was so that they would trip up past the Beauxbatons carriage and when they and the train doors younger , and the boy , Bill , who 'd invented selfstirring or maybe else it ca . . . and all the same team had got during their year Feeling what ? Fred suggested . Everyone looked around at Harry and his family had foul . They tried to lead to work on them seats muttering to Dudley again , not at least Bagman 's commentary , and Piers was torture on all money for months . Harry did , the amazing how to survive underwater and Roberts looks , Crabbe , and Harry , no way beyond inside the strangely witches and pulling cauldrons on the glide of his lap . He was wearing his paper into a small wooden book , he said , So what the Dursleys heard ? A bit of wood all boarded , Hermione began winding another , in the few things up the High Street , asleep very yawned and attached it . Malfoy heard her crossed upward . Harry was supposed to be in London with cold . He was making a noise about it , though : he looked back at You ! gasped Hermione . It could have felt like this dying because of illness before starting everything seemed very remote . Students had breakfast in men 's comin ' years , Privet Drive , crouching , surrounded by a swarm of water , buried water in the palm of their faces as the songs . It 's there , scared . Frank moved toward Harry 's wand , which was lying open , when he recognized the cat 's dared landed ; it should be its its club he kept it out of a large hand , which was asleep to be close . He tried to remember a while to make a do that Dumbledore 's , not at all until June approached the goal posts ; he had evidently pressed left face again to his eyes : Black did , the rest of the five miserable little shack put him wings onto the grass to him back . He turned back the better to avoid Snapes Norris in front of his vision , had once belonged , he turned back to bed . It had n't even been a hard knee on the forehead . Right then FORWARD , said Harry , a lamp Troll was his time on Privet Drive for a while . It was horrible and person in the usually minute At Frank 's dad had enough . If he had n't a few days before the rest of the school , and team the rest of the school had ever in their best before he collapsed correctly , as the dress armor over the ground , enjoying everyone that had just been fully crowded and noisy . The Beaters upon their brooms and the four of the following hope will begin on each of the summer 's defense , which were only in green , a dog , a hand have been hot , which was none and there had been different magical life than anyone usually was surprised if it was possible the end of Harry 's wand and there was a long snout behind them anyway . They have n't set it out , it would be a bit far too easy to read properly . So what the only is been a chance to survive ? How how are they supposed to be too woods ? Cedric suddenly stood asleep breathlessly for nearly too , but did n't dare get another dragon eggs the wailing did still turn into Hogsmeade . Three minutes to do , all three of them 'll bear him when he was just as possibly dangerous that might be the only way he found out about the money , and that seven years ago . Uncle Vernon bought for his family , Harry was never sure where the next moment Harry had gotten beyond a compartment door . Ron was holding a rifle in his bag ! then gave their final one next ; Hermione hurtled everywhere . Ouch ! The seats did n't stop and Harry 's Seeker , So . . . and they 're different . It 's I know . Ron began to rock backward and forward over the bit of parchment he 'd dropped . What was that ? Uncle Vernon would shut up an alien . He wants ter Hagrid , make any idea , said Ron , looking very nervous . They were great with the same weak string o ' the Muggles , a nasty grin and the owls soared into the glass , shot a shower of eyes fell from a large crate rolled onto Harry 's bedspread ; Malfoy was holding a parcel , looking utterly sure that they would make him heard . What did he know things that was n't full writing , which should be kept have held in against the heavens . They seemed to have recovered feeling since something , but his wife were on the golden three-headed dog but clouds of canvas littered that if he had swung along a day like a wand at the mouth of watching . Harry saw Moody , drawing both the trouble The Snitch had clear his leg so half a large pink person wrote out . Next moment was there 's the Cruciatus Curse , he added , very much mistaken not DO N'T YOU ! Yeah , I must have been to get hold . Hermione looked as though she was had upper . I 'll fight it ! then a group of them left her friend Ron had been making them . I expected you just to refuse , your teachers at all . Harry hardly heard Ron dropped his tankard . Four . Can you won ? George Weasley . Malfoy chuckled . This dog was missing . Harry 's owl was suddenly do to say near . The thought of the trees behind the Durmstrang party with the Quidditch team always the merpeople in Wood 's unpleasant . Harry thought it had help noticing what it distracted him in the ear , noticing , terrified , pleading screams . He , and that although he could hear Ron needed win , Harry said Ron . Be right , he said quietly to be changing the furniture into one of the portrait hole . As the dog sprang up to its roots halfway along the field to tumultuous applause ; the two wands that was small , yet excited and excited EXPECTO PATRONUM . thought to Mr. Weasley 's run , or McGonagall were n't in a room . It was Ron in a row , though he was a very fluffy Patronus . Why ? said a bossy , Witch 's books tied . His six old wand , Harry had settled on the top of his wand , as though his head felt warmth and sharp at the face he looked like a skull . His left was thin , he said sharply to something to criminal . It big Albus Dumbledore might have started to think what it is coming . Who both saw Bertha Jorkins in Albania . I 've given each information to you , who said quietly as they all about their skull . The magic had taste the place where you see . It was only a year later , my scar hurt , and a very Ministry Front would make him out of the lake in the eyes of the summer . Bet it 's Mad-Eye , sneered a few weeks in the pumpkin should not have had some before I told him a terrible possibly you . Keep your wand at me , but do not foolish it ? There was a Portkey would be a bit rich and Peter well I want you to present yourself at a son\""
      ]
     },
     "execution_count": 125,
     "metadata": {},
     "output_type": "execute_result"
    }
   ],
   "source": [
    "gen_sentence"
   ]
  },
  {
   "cell_type": "code",
   "execution_count": null,
   "metadata": {},
   "outputs": [],
   "source": []
  }
 ],
 "metadata": {
  "accelerator": "GPU",
  "colab": {
   "provenance": []
  },
  "kernelspec": {
   "display_name": "Python 3 (ipykernel)",
   "language": "python",
   "name": "python3"
  },
  "language_info": {
   "codemirror_mode": {
    "name": "ipython",
    "version": 3
   },
   "file_extension": ".py",
   "mimetype": "text/x-python",
   "name": "python",
   "nbconvert_exporter": "python",
   "pygments_lexer": "ipython3",
   "version": "3.9.18"
  }
 },
 "nbformat": 4,
 "nbformat_minor": 4
}
